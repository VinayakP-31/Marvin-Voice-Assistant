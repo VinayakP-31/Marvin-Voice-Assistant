{
  "nbformat": 4,
  "nbformat_minor": 0,
  "metadata": {
    "colab": {
      "provenance": [],
      "collapsed_sections": [
        "R8MXqW_MWDTF",
        "OCRLcF8tWVZ-",
        "9_DRmU2lWeAt",
        "idbGdNqgWodE",
        "M_zW3BMTWwEH",
        "sHij3TEzW1p2",
        "YG0l6pv0XDV9",
        "oDaTLOYZXI61"
      ]
    },
    "kernelspec": {
      "name": "python3",
      "display_name": "Python 3"
    },
    "language_info": {
      "name": "python"
    },
    "widgets": {
      "application/vnd.jupyter.widget-state+json": {
        "e8cee270b66245f4b645e06a251a013d": {
          "model_module": "@jupyter-widgets/controls",
          "model_name": "VBoxModel",
          "model_module_version": "1.5.0",
          "state": {
            "_dom_classes": [],
            "_model_module": "@jupyter-widgets/controls",
            "_model_module_version": "1.5.0",
            "_model_name": "VBoxModel",
            "_view_count": null,
            "_view_module": "@jupyter-widgets/controls",
            "_view_module_version": "1.5.0",
            "_view_name": "VBoxView",
            "box_style": "",
            "children": [
              "IPY_MODEL_5f2ae9cbf17c46e0998c9b2eeff94f85",
              "IPY_MODEL_0025f0b05ab14084a53b81feb59c4ca1",
              "IPY_MODEL_b6e3db1587b34d35a1c4ca36a1df3f55",
              "IPY_MODEL_3d256557ae55410988bb7791b3c798af"
            ],
            "layout": "IPY_MODEL_603be12efa0b448aae89851726019d48"
          }
        },
        "d1465ececcd447bd984516c6f471d842": {
          "model_module": "@jupyter-widgets/controls",
          "model_name": "HTMLModel",
          "model_module_version": "1.5.0",
          "state": {
            "_dom_classes": [],
            "_model_module": "@jupyter-widgets/controls",
            "_model_module_version": "1.5.0",
            "_model_name": "HTMLModel",
            "_view_count": null,
            "_view_module": "@jupyter-widgets/controls",
            "_view_module_version": "1.5.0",
            "_view_name": "HTMLView",
            "description": "",
            "description_tooltip": null,
            "layout": "IPY_MODEL_9a1f08bd9b2e4e55b5be6fa85d2da133",
            "placeholder": "​",
            "style": "IPY_MODEL_0fc09106ad6144879a2b5794a1c3a861",
            "value": "<center> <img\nsrc=https://huggingface.co/front/assets/huggingface_logo-noborder.svg\nalt='Hugging Face'> <br> Copy a token from <a\nhref=\"https://huggingface.co/settings/tokens\" target=\"_blank\">your Hugging Face\ntokens page</a> and paste it below. <br> Immediately click login after copying\nyour token or it might be stored in plain text in this notebook file. </center>"
          }
        },
        "35d180dd16a64078aaa38a74ecedb7ec": {
          "model_module": "@jupyter-widgets/controls",
          "model_name": "PasswordModel",
          "model_module_version": "1.5.0",
          "state": {
            "_dom_classes": [],
            "_model_module": "@jupyter-widgets/controls",
            "_model_module_version": "1.5.0",
            "_model_name": "PasswordModel",
            "_view_count": null,
            "_view_module": "@jupyter-widgets/controls",
            "_view_module_version": "1.5.0",
            "_view_name": "PasswordView",
            "continuous_update": true,
            "description": "Token:",
            "description_tooltip": null,
            "disabled": false,
            "layout": "IPY_MODEL_37efa5c57f5f4b4599d60ca29d120a50",
            "placeholder": "​",
            "style": "IPY_MODEL_a0d5faffa64a4f6abe2a3524ae1699f1",
            "value": ""
          }
        },
        "1dd8df43bff3435ca71920a40f7c298a": {
          "model_module": "@jupyter-widgets/controls",
          "model_name": "CheckboxModel",
          "model_module_version": "1.5.0",
          "state": {
            "_dom_classes": [],
            "_model_module": "@jupyter-widgets/controls",
            "_model_module_version": "1.5.0",
            "_model_name": "CheckboxModel",
            "_view_count": null,
            "_view_module": "@jupyter-widgets/controls",
            "_view_module_version": "1.5.0",
            "_view_name": "CheckboxView",
            "description": "Add token as git credential?",
            "description_tooltip": null,
            "disabled": false,
            "indent": true,
            "layout": "IPY_MODEL_eec08a951d3a47bc947f3b17fe877037",
            "style": "IPY_MODEL_4d0220e516dd4cdc8f64538fbe7d1770",
            "value": true
          }
        },
        "3dbd5e922a984e97ab545468d37ad867": {
          "model_module": "@jupyter-widgets/controls",
          "model_name": "ButtonModel",
          "model_module_version": "1.5.0",
          "state": {
            "_dom_classes": [],
            "_model_module": "@jupyter-widgets/controls",
            "_model_module_version": "1.5.0",
            "_model_name": "ButtonModel",
            "_view_count": null,
            "_view_module": "@jupyter-widgets/controls",
            "_view_module_version": "1.5.0",
            "_view_name": "ButtonView",
            "button_style": "",
            "description": "Login",
            "disabled": false,
            "icon": "",
            "layout": "IPY_MODEL_61d19b57b4bf425f8356bfe2409d9811",
            "style": "IPY_MODEL_2f6031f484594d5d83e3e840d5e26f85",
            "tooltip": ""
          }
        },
        "f0f140bbc1f647e5acfe9fb3ceef1335": {
          "model_module": "@jupyter-widgets/controls",
          "model_name": "HTMLModel",
          "model_module_version": "1.5.0",
          "state": {
            "_dom_classes": [],
            "_model_module": "@jupyter-widgets/controls",
            "_model_module_version": "1.5.0",
            "_model_name": "HTMLModel",
            "_view_count": null,
            "_view_module": "@jupyter-widgets/controls",
            "_view_module_version": "1.5.0",
            "_view_name": "HTMLView",
            "description": "",
            "description_tooltip": null,
            "layout": "IPY_MODEL_2b3e49f08b744d44b550f256f56b88da",
            "placeholder": "​",
            "style": "IPY_MODEL_47b5f961df3842f794afd1b9ba7f9d19",
            "value": "\n<b>Pro Tip:</b> If you don't already have one, you can create a dedicated\n'notebooks' token with 'write' access, that you can then easily reuse for all\nnotebooks. </center>"
          }
        },
        "603be12efa0b448aae89851726019d48": {
          "model_module": "@jupyter-widgets/base",
          "model_name": "LayoutModel",
          "model_module_version": "1.2.0",
          "state": {
            "_model_module": "@jupyter-widgets/base",
            "_model_module_version": "1.2.0",
            "_model_name": "LayoutModel",
            "_view_count": null,
            "_view_module": "@jupyter-widgets/base",
            "_view_module_version": "1.2.0",
            "_view_name": "LayoutView",
            "align_content": null,
            "align_items": "center",
            "align_self": null,
            "border": null,
            "bottom": null,
            "display": "flex",
            "flex": null,
            "flex_flow": "column",
            "grid_area": null,
            "grid_auto_columns": null,
            "grid_auto_flow": null,
            "grid_auto_rows": null,
            "grid_column": null,
            "grid_gap": null,
            "grid_row": null,
            "grid_template_areas": null,
            "grid_template_columns": null,
            "grid_template_rows": null,
            "height": null,
            "justify_content": null,
            "justify_items": null,
            "left": null,
            "margin": null,
            "max_height": null,
            "max_width": null,
            "min_height": null,
            "min_width": null,
            "object_fit": null,
            "object_position": null,
            "order": null,
            "overflow": null,
            "overflow_x": null,
            "overflow_y": null,
            "padding": null,
            "right": null,
            "top": null,
            "visibility": null,
            "width": "50%"
          }
        },
        "9a1f08bd9b2e4e55b5be6fa85d2da133": {
          "model_module": "@jupyter-widgets/base",
          "model_name": "LayoutModel",
          "model_module_version": "1.2.0",
          "state": {
            "_model_module": "@jupyter-widgets/base",
            "_model_module_version": "1.2.0",
            "_model_name": "LayoutModel",
            "_view_count": null,
            "_view_module": "@jupyter-widgets/base",
            "_view_module_version": "1.2.0",
            "_view_name": "LayoutView",
            "align_content": null,
            "align_items": null,
            "align_self": null,
            "border": null,
            "bottom": null,
            "display": null,
            "flex": null,
            "flex_flow": null,
            "grid_area": null,
            "grid_auto_columns": null,
            "grid_auto_flow": null,
            "grid_auto_rows": null,
            "grid_column": null,
            "grid_gap": null,
            "grid_row": null,
            "grid_template_areas": null,
            "grid_template_columns": null,
            "grid_template_rows": null,
            "height": null,
            "justify_content": null,
            "justify_items": null,
            "left": null,
            "margin": null,
            "max_height": null,
            "max_width": null,
            "min_height": null,
            "min_width": null,
            "object_fit": null,
            "object_position": null,
            "order": null,
            "overflow": null,
            "overflow_x": null,
            "overflow_y": null,
            "padding": null,
            "right": null,
            "top": null,
            "visibility": null,
            "width": null
          }
        },
        "0fc09106ad6144879a2b5794a1c3a861": {
          "model_module": "@jupyter-widgets/controls",
          "model_name": "DescriptionStyleModel",
          "model_module_version": "1.5.0",
          "state": {
            "_model_module": "@jupyter-widgets/controls",
            "_model_module_version": "1.5.0",
            "_model_name": "DescriptionStyleModel",
            "_view_count": null,
            "_view_module": "@jupyter-widgets/base",
            "_view_module_version": "1.2.0",
            "_view_name": "StyleView",
            "description_width": ""
          }
        },
        "37efa5c57f5f4b4599d60ca29d120a50": {
          "model_module": "@jupyter-widgets/base",
          "model_name": "LayoutModel",
          "model_module_version": "1.2.0",
          "state": {
            "_model_module": "@jupyter-widgets/base",
            "_model_module_version": "1.2.0",
            "_model_name": "LayoutModel",
            "_view_count": null,
            "_view_module": "@jupyter-widgets/base",
            "_view_module_version": "1.2.0",
            "_view_name": "LayoutView",
            "align_content": null,
            "align_items": null,
            "align_self": null,
            "border": null,
            "bottom": null,
            "display": null,
            "flex": null,
            "flex_flow": null,
            "grid_area": null,
            "grid_auto_columns": null,
            "grid_auto_flow": null,
            "grid_auto_rows": null,
            "grid_column": null,
            "grid_gap": null,
            "grid_row": null,
            "grid_template_areas": null,
            "grid_template_columns": null,
            "grid_template_rows": null,
            "height": null,
            "justify_content": null,
            "justify_items": null,
            "left": null,
            "margin": null,
            "max_height": null,
            "max_width": null,
            "min_height": null,
            "min_width": null,
            "object_fit": null,
            "object_position": null,
            "order": null,
            "overflow": null,
            "overflow_x": null,
            "overflow_y": null,
            "padding": null,
            "right": null,
            "top": null,
            "visibility": null,
            "width": null
          }
        },
        "a0d5faffa64a4f6abe2a3524ae1699f1": {
          "model_module": "@jupyter-widgets/controls",
          "model_name": "DescriptionStyleModel",
          "model_module_version": "1.5.0",
          "state": {
            "_model_module": "@jupyter-widgets/controls",
            "_model_module_version": "1.5.0",
            "_model_name": "DescriptionStyleModel",
            "_view_count": null,
            "_view_module": "@jupyter-widgets/base",
            "_view_module_version": "1.2.0",
            "_view_name": "StyleView",
            "description_width": ""
          }
        },
        "eec08a951d3a47bc947f3b17fe877037": {
          "model_module": "@jupyter-widgets/base",
          "model_name": "LayoutModel",
          "model_module_version": "1.2.0",
          "state": {
            "_model_module": "@jupyter-widgets/base",
            "_model_module_version": "1.2.0",
            "_model_name": "LayoutModel",
            "_view_count": null,
            "_view_module": "@jupyter-widgets/base",
            "_view_module_version": "1.2.0",
            "_view_name": "LayoutView",
            "align_content": null,
            "align_items": null,
            "align_self": null,
            "border": null,
            "bottom": null,
            "display": null,
            "flex": null,
            "flex_flow": null,
            "grid_area": null,
            "grid_auto_columns": null,
            "grid_auto_flow": null,
            "grid_auto_rows": null,
            "grid_column": null,
            "grid_gap": null,
            "grid_row": null,
            "grid_template_areas": null,
            "grid_template_columns": null,
            "grid_template_rows": null,
            "height": null,
            "justify_content": null,
            "justify_items": null,
            "left": null,
            "margin": null,
            "max_height": null,
            "max_width": null,
            "min_height": null,
            "min_width": null,
            "object_fit": null,
            "object_position": null,
            "order": null,
            "overflow": null,
            "overflow_x": null,
            "overflow_y": null,
            "padding": null,
            "right": null,
            "top": null,
            "visibility": null,
            "width": null
          }
        },
        "4d0220e516dd4cdc8f64538fbe7d1770": {
          "model_module": "@jupyter-widgets/controls",
          "model_name": "DescriptionStyleModel",
          "model_module_version": "1.5.0",
          "state": {
            "_model_module": "@jupyter-widgets/controls",
            "_model_module_version": "1.5.0",
            "_model_name": "DescriptionStyleModel",
            "_view_count": null,
            "_view_module": "@jupyter-widgets/base",
            "_view_module_version": "1.2.0",
            "_view_name": "StyleView",
            "description_width": ""
          }
        },
        "61d19b57b4bf425f8356bfe2409d9811": {
          "model_module": "@jupyter-widgets/base",
          "model_name": "LayoutModel",
          "model_module_version": "1.2.0",
          "state": {
            "_model_module": "@jupyter-widgets/base",
            "_model_module_version": "1.2.0",
            "_model_name": "LayoutModel",
            "_view_count": null,
            "_view_module": "@jupyter-widgets/base",
            "_view_module_version": "1.2.0",
            "_view_name": "LayoutView",
            "align_content": null,
            "align_items": null,
            "align_self": null,
            "border": null,
            "bottom": null,
            "display": null,
            "flex": null,
            "flex_flow": null,
            "grid_area": null,
            "grid_auto_columns": null,
            "grid_auto_flow": null,
            "grid_auto_rows": null,
            "grid_column": null,
            "grid_gap": null,
            "grid_row": null,
            "grid_template_areas": null,
            "grid_template_columns": null,
            "grid_template_rows": null,
            "height": null,
            "justify_content": null,
            "justify_items": null,
            "left": null,
            "margin": null,
            "max_height": null,
            "max_width": null,
            "min_height": null,
            "min_width": null,
            "object_fit": null,
            "object_position": null,
            "order": null,
            "overflow": null,
            "overflow_x": null,
            "overflow_y": null,
            "padding": null,
            "right": null,
            "top": null,
            "visibility": null,
            "width": null
          }
        },
        "2f6031f484594d5d83e3e840d5e26f85": {
          "model_module": "@jupyter-widgets/controls",
          "model_name": "ButtonStyleModel",
          "model_module_version": "1.5.0",
          "state": {
            "_model_module": "@jupyter-widgets/controls",
            "_model_module_version": "1.5.0",
            "_model_name": "ButtonStyleModel",
            "_view_count": null,
            "_view_module": "@jupyter-widgets/base",
            "_view_module_version": "1.2.0",
            "_view_name": "StyleView",
            "button_color": null,
            "font_weight": ""
          }
        },
        "2b3e49f08b744d44b550f256f56b88da": {
          "model_module": "@jupyter-widgets/base",
          "model_name": "LayoutModel",
          "model_module_version": "1.2.0",
          "state": {
            "_model_module": "@jupyter-widgets/base",
            "_model_module_version": "1.2.0",
            "_model_name": "LayoutModel",
            "_view_count": null,
            "_view_module": "@jupyter-widgets/base",
            "_view_module_version": "1.2.0",
            "_view_name": "LayoutView",
            "align_content": null,
            "align_items": null,
            "align_self": null,
            "border": null,
            "bottom": null,
            "display": null,
            "flex": null,
            "flex_flow": null,
            "grid_area": null,
            "grid_auto_columns": null,
            "grid_auto_flow": null,
            "grid_auto_rows": null,
            "grid_column": null,
            "grid_gap": null,
            "grid_row": null,
            "grid_template_areas": null,
            "grid_template_columns": null,
            "grid_template_rows": null,
            "height": null,
            "justify_content": null,
            "justify_items": null,
            "left": null,
            "margin": null,
            "max_height": null,
            "max_width": null,
            "min_height": null,
            "min_width": null,
            "object_fit": null,
            "object_position": null,
            "order": null,
            "overflow": null,
            "overflow_x": null,
            "overflow_y": null,
            "padding": null,
            "right": null,
            "top": null,
            "visibility": null,
            "width": null
          }
        },
        "47b5f961df3842f794afd1b9ba7f9d19": {
          "model_module": "@jupyter-widgets/controls",
          "model_name": "DescriptionStyleModel",
          "model_module_version": "1.5.0",
          "state": {
            "_model_module": "@jupyter-widgets/controls",
            "_model_module_version": "1.5.0",
            "_model_name": "DescriptionStyleModel",
            "_view_count": null,
            "_view_module": "@jupyter-widgets/base",
            "_view_module_version": "1.2.0",
            "_view_name": "StyleView",
            "description_width": ""
          }
        },
        "9ecc652688454bc2a11e400ac5ed0d81": {
          "model_module": "@jupyter-widgets/controls",
          "model_name": "LabelModel",
          "model_module_version": "1.5.0",
          "state": {
            "_dom_classes": [],
            "_model_module": "@jupyter-widgets/controls",
            "_model_module_version": "1.5.0",
            "_model_name": "LabelModel",
            "_view_count": null,
            "_view_module": "@jupyter-widgets/controls",
            "_view_module_version": "1.5.0",
            "_view_name": "LabelView",
            "description": "",
            "description_tooltip": null,
            "layout": "IPY_MODEL_7a0a3f5015ac451085a1dd27087c91f1",
            "placeholder": "​",
            "style": "IPY_MODEL_ec7e447524134678a87430eb87b1bfcf",
            "value": "Connecting..."
          }
        },
        "7a0a3f5015ac451085a1dd27087c91f1": {
          "model_module": "@jupyter-widgets/base",
          "model_name": "LayoutModel",
          "model_module_version": "1.2.0",
          "state": {
            "_model_module": "@jupyter-widgets/base",
            "_model_module_version": "1.2.0",
            "_model_name": "LayoutModel",
            "_view_count": null,
            "_view_module": "@jupyter-widgets/base",
            "_view_module_version": "1.2.0",
            "_view_name": "LayoutView",
            "align_content": null,
            "align_items": null,
            "align_self": null,
            "border": null,
            "bottom": null,
            "display": null,
            "flex": null,
            "flex_flow": null,
            "grid_area": null,
            "grid_auto_columns": null,
            "grid_auto_flow": null,
            "grid_auto_rows": null,
            "grid_column": null,
            "grid_gap": null,
            "grid_row": null,
            "grid_template_areas": null,
            "grid_template_columns": null,
            "grid_template_rows": null,
            "height": null,
            "justify_content": null,
            "justify_items": null,
            "left": null,
            "margin": null,
            "max_height": null,
            "max_width": null,
            "min_height": null,
            "min_width": null,
            "object_fit": null,
            "object_position": null,
            "order": null,
            "overflow": null,
            "overflow_x": null,
            "overflow_y": null,
            "padding": null,
            "right": null,
            "top": null,
            "visibility": null,
            "width": null
          }
        },
        "ec7e447524134678a87430eb87b1bfcf": {
          "model_module": "@jupyter-widgets/controls",
          "model_name": "DescriptionStyleModel",
          "model_module_version": "1.5.0",
          "state": {
            "_model_module": "@jupyter-widgets/controls",
            "_model_module_version": "1.5.0",
            "_model_name": "DescriptionStyleModel",
            "_view_count": null,
            "_view_module": "@jupyter-widgets/base",
            "_view_module_version": "1.2.0",
            "_view_name": "StyleView",
            "description_width": ""
          }
        },
        "5f2ae9cbf17c46e0998c9b2eeff94f85": {
          "model_module": "@jupyter-widgets/controls",
          "model_name": "LabelModel",
          "model_module_version": "1.5.0",
          "state": {
            "_dom_classes": [],
            "_model_module": "@jupyter-widgets/controls",
            "_model_module_version": "1.5.0",
            "_model_name": "LabelModel",
            "_view_count": null,
            "_view_module": "@jupyter-widgets/controls",
            "_view_module_version": "1.5.0",
            "_view_name": "LabelView",
            "description": "",
            "description_tooltip": null,
            "layout": "IPY_MODEL_562c99deb1a7481ca711fcb7d1d1cc34",
            "placeholder": "​",
            "style": "IPY_MODEL_dd8664bed30c43a387a215da570ba290",
            "value": "Token is valid (permission: read)."
          }
        },
        "0025f0b05ab14084a53b81feb59c4ca1": {
          "model_module": "@jupyter-widgets/controls",
          "model_name": "LabelModel",
          "model_module_version": "1.5.0",
          "state": {
            "_dom_classes": [],
            "_model_module": "@jupyter-widgets/controls",
            "_model_module_version": "1.5.0",
            "_model_name": "LabelModel",
            "_view_count": null,
            "_view_module": "@jupyter-widgets/controls",
            "_view_module_version": "1.5.0",
            "_view_name": "LabelView",
            "description": "",
            "description_tooltip": null,
            "layout": "IPY_MODEL_b37583fbfc204f4199ee436040e66acf",
            "placeholder": "​",
            "style": "IPY_MODEL_58c7759862d4428aa18318ba96cc77cf",
            "value": "Your token has been saved in your configured git credential helpers (store)."
          }
        },
        "b6e3db1587b34d35a1c4ca36a1df3f55": {
          "model_module": "@jupyter-widgets/controls",
          "model_name": "LabelModel",
          "model_module_version": "1.5.0",
          "state": {
            "_dom_classes": [],
            "_model_module": "@jupyter-widgets/controls",
            "_model_module_version": "1.5.0",
            "_model_name": "LabelModel",
            "_view_count": null,
            "_view_module": "@jupyter-widgets/controls",
            "_view_module_version": "1.5.0",
            "_view_name": "LabelView",
            "description": "",
            "description_tooltip": null,
            "layout": "IPY_MODEL_a28a6aef8e3c49ee87ffdea7d6c9998f",
            "placeholder": "​",
            "style": "IPY_MODEL_bd43ec75e5f24947846882022bca1771",
            "value": "Your token has been saved to /root/.cache/huggingface/token"
          }
        },
        "3d256557ae55410988bb7791b3c798af": {
          "model_module": "@jupyter-widgets/controls",
          "model_name": "LabelModel",
          "model_module_version": "1.5.0",
          "state": {
            "_dom_classes": [],
            "_model_module": "@jupyter-widgets/controls",
            "_model_module_version": "1.5.0",
            "_model_name": "LabelModel",
            "_view_count": null,
            "_view_module": "@jupyter-widgets/controls",
            "_view_module_version": "1.5.0",
            "_view_name": "LabelView",
            "description": "",
            "description_tooltip": null,
            "layout": "IPY_MODEL_4c577baa7b9943ca9a8f0800a7c22ff4",
            "placeholder": "​",
            "style": "IPY_MODEL_353de178d91b41e59600812429d55ef3",
            "value": "Login successful"
          }
        },
        "562c99deb1a7481ca711fcb7d1d1cc34": {
          "model_module": "@jupyter-widgets/base",
          "model_name": "LayoutModel",
          "model_module_version": "1.2.0",
          "state": {
            "_model_module": "@jupyter-widgets/base",
            "_model_module_version": "1.2.0",
            "_model_name": "LayoutModel",
            "_view_count": null,
            "_view_module": "@jupyter-widgets/base",
            "_view_module_version": "1.2.0",
            "_view_name": "LayoutView",
            "align_content": null,
            "align_items": null,
            "align_self": null,
            "border": null,
            "bottom": null,
            "display": null,
            "flex": null,
            "flex_flow": null,
            "grid_area": null,
            "grid_auto_columns": null,
            "grid_auto_flow": null,
            "grid_auto_rows": null,
            "grid_column": null,
            "grid_gap": null,
            "grid_row": null,
            "grid_template_areas": null,
            "grid_template_columns": null,
            "grid_template_rows": null,
            "height": null,
            "justify_content": null,
            "justify_items": null,
            "left": null,
            "margin": null,
            "max_height": null,
            "max_width": null,
            "min_height": null,
            "min_width": null,
            "object_fit": null,
            "object_position": null,
            "order": null,
            "overflow": null,
            "overflow_x": null,
            "overflow_y": null,
            "padding": null,
            "right": null,
            "top": null,
            "visibility": null,
            "width": null
          }
        },
        "dd8664bed30c43a387a215da570ba290": {
          "model_module": "@jupyter-widgets/controls",
          "model_name": "DescriptionStyleModel",
          "model_module_version": "1.5.0",
          "state": {
            "_model_module": "@jupyter-widgets/controls",
            "_model_module_version": "1.5.0",
            "_model_name": "DescriptionStyleModel",
            "_view_count": null,
            "_view_module": "@jupyter-widgets/base",
            "_view_module_version": "1.2.0",
            "_view_name": "StyleView",
            "description_width": ""
          }
        },
        "b37583fbfc204f4199ee436040e66acf": {
          "model_module": "@jupyter-widgets/base",
          "model_name": "LayoutModel",
          "model_module_version": "1.2.0",
          "state": {
            "_model_module": "@jupyter-widgets/base",
            "_model_module_version": "1.2.0",
            "_model_name": "LayoutModel",
            "_view_count": null,
            "_view_module": "@jupyter-widgets/base",
            "_view_module_version": "1.2.0",
            "_view_name": "LayoutView",
            "align_content": null,
            "align_items": null,
            "align_self": null,
            "border": null,
            "bottom": null,
            "display": null,
            "flex": null,
            "flex_flow": null,
            "grid_area": null,
            "grid_auto_columns": null,
            "grid_auto_flow": null,
            "grid_auto_rows": null,
            "grid_column": null,
            "grid_gap": null,
            "grid_row": null,
            "grid_template_areas": null,
            "grid_template_columns": null,
            "grid_template_rows": null,
            "height": null,
            "justify_content": null,
            "justify_items": null,
            "left": null,
            "margin": null,
            "max_height": null,
            "max_width": null,
            "min_height": null,
            "min_width": null,
            "object_fit": null,
            "object_position": null,
            "order": null,
            "overflow": null,
            "overflow_x": null,
            "overflow_y": null,
            "padding": null,
            "right": null,
            "top": null,
            "visibility": null,
            "width": null
          }
        },
        "58c7759862d4428aa18318ba96cc77cf": {
          "model_module": "@jupyter-widgets/controls",
          "model_name": "DescriptionStyleModel",
          "model_module_version": "1.5.0",
          "state": {
            "_model_module": "@jupyter-widgets/controls",
            "_model_module_version": "1.5.0",
            "_model_name": "DescriptionStyleModel",
            "_view_count": null,
            "_view_module": "@jupyter-widgets/base",
            "_view_module_version": "1.2.0",
            "_view_name": "StyleView",
            "description_width": ""
          }
        },
        "a28a6aef8e3c49ee87ffdea7d6c9998f": {
          "model_module": "@jupyter-widgets/base",
          "model_name": "LayoutModel",
          "model_module_version": "1.2.0",
          "state": {
            "_model_module": "@jupyter-widgets/base",
            "_model_module_version": "1.2.0",
            "_model_name": "LayoutModel",
            "_view_count": null,
            "_view_module": "@jupyter-widgets/base",
            "_view_module_version": "1.2.0",
            "_view_name": "LayoutView",
            "align_content": null,
            "align_items": null,
            "align_self": null,
            "border": null,
            "bottom": null,
            "display": null,
            "flex": null,
            "flex_flow": null,
            "grid_area": null,
            "grid_auto_columns": null,
            "grid_auto_flow": null,
            "grid_auto_rows": null,
            "grid_column": null,
            "grid_gap": null,
            "grid_row": null,
            "grid_template_areas": null,
            "grid_template_columns": null,
            "grid_template_rows": null,
            "height": null,
            "justify_content": null,
            "justify_items": null,
            "left": null,
            "margin": null,
            "max_height": null,
            "max_width": null,
            "min_height": null,
            "min_width": null,
            "object_fit": null,
            "object_position": null,
            "order": null,
            "overflow": null,
            "overflow_x": null,
            "overflow_y": null,
            "padding": null,
            "right": null,
            "top": null,
            "visibility": null,
            "width": null
          }
        },
        "bd43ec75e5f24947846882022bca1771": {
          "model_module": "@jupyter-widgets/controls",
          "model_name": "DescriptionStyleModel",
          "model_module_version": "1.5.0",
          "state": {
            "_model_module": "@jupyter-widgets/controls",
            "_model_module_version": "1.5.0",
            "_model_name": "DescriptionStyleModel",
            "_view_count": null,
            "_view_module": "@jupyter-widgets/base",
            "_view_module_version": "1.2.0",
            "_view_name": "StyleView",
            "description_width": ""
          }
        },
        "4c577baa7b9943ca9a8f0800a7c22ff4": {
          "model_module": "@jupyter-widgets/base",
          "model_name": "LayoutModel",
          "model_module_version": "1.2.0",
          "state": {
            "_model_module": "@jupyter-widgets/base",
            "_model_module_version": "1.2.0",
            "_model_name": "LayoutModel",
            "_view_count": null,
            "_view_module": "@jupyter-widgets/base",
            "_view_module_version": "1.2.0",
            "_view_name": "LayoutView",
            "align_content": null,
            "align_items": null,
            "align_self": null,
            "border": null,
            "bottom": null,
            "display": null,
            "flex": null,
            "flex_flow": null,
            "grid_area": null,
            "grid_auto_columns": null,
            "grid_auto_flow": null,
            "grid_auto_rows": null,
            "grid_column": null,
            "grid_gap": null,
            "grid_row": null,
            "grid_template_areas": null,
            "grid_template_columns": null,
            "grid_template_rows": null,
            "height": null,
            "justify_content": null,
            "justify_items": null,
            "left": null,
            "margin": null,
            "max_height": null,
            "max_width": null,
            "min_height": null,
            "min_width": null,
            "object_fit": null,
            "object_position": null,
            "order": null,
            "overflow": null,
            "overflow_x": null,
            "overflow_y": null,
            "padding": null,
            "right": null,
            "top": null,
            "visibility": null,
            "width": null
          }
        },
        "353de178d91b41e59600812429d55ef3": {
          "model_module": "@jupyter-widgets/controls",
          "model_name": "DescriptionStyleModel",
          "model_module_version": "1.5.0",
          "state": {
            "_model_module": "@jupyter-widgets/controls",
            "_model_module_version": "1.5.0",
            "_model_name": "DescriptionStyleModel",
            "_view_count": null,
            "_view_module": "@jupyter-widgets/base",
            "_view_module_version": "1.2.0",
            "_view_name": "StyleView",
            "description_width": ""
          }
        },
        "1e718c2b6788441fada2f5e712226092": {
          "model_module": "@jupyter-widgets/controls",
          "model_name": "HBoxModel",
          "model_module_version": "1.5.0",
          "state": {
            "_dom_classes": [],
            "_model_module": "@jupyter-widgets/controls",
            "_model_module_version": "1.5.0",
            "_model_name": "HBoxModel",
            "_view_count": null,
            "_view_module": "@jupyter-widgets/controls",
            "_view_module_version": "1.5.0",
            "_view_name": "HBoxView",
            "box_style": "",
            "children": [
              "IPY_MODEL_98a7aa66dc9848e68f57debc5211ad0e",
              "IPY_MODEL_2b375d7625eb4ccf8b62dabab764a54c",
              "IPY_MODEL_77d6d1e82b48411e90321320e933011a"
            ],
            "layout": "IPY_MODEL_d84c6c61dacd46d3a960ac7ae32db0a9"
          }
        },
        "98a7aa66dc9848e68f57debc5211ad0e": {
          "model_module": "@jupyter-widgets/controls",
          "model_name": "HTMLModel",
          "model_module_version": "1.5.0",
          "state": {
            "_dom_classes": [],
            "_model_module": "@jupyter-widgets/controls",
            "_model_module_version": "1.5.0",
            "_model_name": "HTMLModel",
            "_view_count": null,
            "_view_module": "@jupyter-widgets/controls",
            "_view_module_version": "1.5.0",
            "_view_name": "HTMLView",
            "description": "",
            "description_tooltip": null,
            "layout": "IPY_MODEL_9792b318d552499d89312fa9f52dec57",
            "placeholder": "​",
            "style": "IPY_MODEL_b1c926b0e35649ea8765cd5594b7862e",
            "value": "Downloading data: 100%"
          }
        },
        "2b375d7625eb4ccf8b62dabab764a54c": {
          "model_module": "@jupyter-widgets/controls",
          "model_name": "FloatProgressModel",
          "model_module_version": "1.5.0",
          "state": {
            "_dom_classes": [],
            "_model_module": "@jupyter-widgets/controls",
            "_model_module_version": "1.5.0",
            "_model_name": "FloatProgressModel",
            "_view_count": null,
            "_view_module": "@jupyter-widgets/controls",
            "_view_module_version": "1.5.0",
            "_view_name": "ProgressView",
            "bar_style": "success",
            "description": "",
            "description_tooltip": null,
            "layout": "IPY_MODEL_a2398211031c47fcba5e7bc20744c04e",
            "max": 21283427,
            "min": 0,
            "orientation": "horizontal",
            "style": "IPY_MODEL_b59660e02d354695a9ad468d01ebd1f8",
            "value": 21283427
          }
        },
        "77d6d1e82b48411e90321320e933011a": {
          "model_module": "@jupyter-widgets/controls",
          "model_name": "HTMLModel",
          "model_module_version": "1.5.0",
          "state": {
            "_dom_classes": [],
            "_model_module": "@jupyter-widgets/controls",
            "_model_module_version": "1.5.0",
            "_model_name": "HTMLModel",
            "_view_count": null,
            "_view_module": "@jupyter-widgets/controls",
            "_view_module_version": "1.5.0",
            "_view_name": "HTMLView",
            "description": "",
            "description_tooltip": null,
            "layout": "IPY_MODEL_bf595eb5d2454d18945f6a0070b23b72",
            "placeholder": "​",
            "style": "IPY_MODEL_43eababe50e446ceacd7f13931e8f225",
            "value": " 21.3M/21.3M [00:00&lt;00:00, 38.8MB/s]"
          }
        },
        "d84c6c61dacd46d3a960ac7ae32db0a9": {
          "model_module": "@jupyter-widgets/base",
          "model_name": "LayoutModel",
          "model_module_version": "1.2.0",
          "state": {
            "_model_module": "@jupyter-widgets/base",
            "_model_module_version": "1.2.0",
            "_model_name": "LayoutModel",
            "_view_count": null,
            "_view_module": "@jupyter-widgets/base",
            "_view_module_version": "1.2.0",
            "_view_name": "LayoutView",
            "align_content": null,
            "align_items": null,
            "align_self": null,
            "border": null,
            "bottom": null,
            "display": null,
            "flex": null,
            "flex_flow": null,
            "grid_area": null,
            "grid_auto_columns": null,
            "grid_auto_flow": null,
            "grid_auto_rows": null,
            "grid_column": null,
            "grid_gap": null,
            "grid_row": null,
            "grid_template_areas": null,
            "grid_template_columns": null,
            "grid_template_rows": null,
            "height": null,
            "justify_content": null,
            "justify_items": null,
            "left": null,
            "margin": null,
            "max_height": null,
            "max_width": null,
            "min_height": null,
            "min_width": null,
            "object_fit": null,
            "object_position": null,
            "order": null,
            "overflow": null,
            "overflow_x": null,
            "overflow_y": null,
            "padding": null,
            "right": null,
            "top": null,
            "visibility": null,
            "width": null
          }
        },
        "9792b318d552499d89312fa9f52dec57": {
          "model_module": "@jupyter-widgets/base",
          "model_name": "LayoutModel",
          "model_module_version": "1.2.0",
          "state": {
            "_model_module": "@jupyter-widgets/base",
            "_model_module_version": "1.2.0",
            "_model_name": "LayoutModel",
            "_view_count": null,
            "_view_module": "@jupyter-widgets/base",
            "_view_module_version": "1.2.0",
            "_view_name": "LayoutView",
            "align_content": null,
            "align_items": null,
            "align_self": null,
            "border": null,
            "bottom": null,
            "display": null,
            "flex": null,
            "flex_flow": null,
            "grid_area": null,
            "grid_auto_columns": null,
            "grid_auto_flow": null,
            "grid_auto_rows": null,
            "grid_column": null,
            "grid_gap": null,
            "grid_row": null,
            "grid_template_areas": null,
            "grid_template_columns": null,
            "grid_template_rows": null,
            "height": null,
            "justify_content": null,
            "justify_items": null,
            "left": null,
            "margin": null,
            "max_height": null,
            "max_width": null,
            "min_height": null,
            "min_width": null,
            "object_fit": null,
            "object_position": null,
            "order": null,
            "overflow": null,
            "overflow_x": null,
            "overflow_y": null,
            "padding": null,
            "right": null,
            "top": null,
            "visibility": null,
            "width": null
          }
        },
        "b1c926b0e35649ea8765cd5594b7862e": {
          "model_module": "@jupyter-widgets/controls",
          "model_name": "DescriptionStyleModel",
          "model_module_version": "1.5.0",
          "state": {
            "_model_module": "@jupyter-widgets/controls",
            "_model_module_version": "1.5.0",
            "_model_name": "DescriptionStyleModel",
            "_view_count": null,
            "_view_module": "@jupyter-widgets/base",
            "_view_module_version": "1.2.0",
            "_view_name": "StyleView",
            "description_width": ""
          }
        },
        "a2398211031c47fcba5e7bc20744c04e": {
          "model_module": "@jupyter-widgets/base",
          "model_name": "LayoutModel",
          "model_module_version": "1.2.0",
          "state": {
            "_model_module": "@jupyter-widgets/base",
            "_model_module_version": "1.2.0",
            "_model_name": "LayoutModel",
            "_view_count": null,
            "_view_module": "@jupyter-widgets/base",
            "_view_module_version": "1.2.0",
            "_view_name": "LayoutView",
            "align_content": null,
            "align_items": null,
            "align_self": null,
            "border": null,
            "bottom": null,
            "display": null,
            "flex": null,
            "flex_flow": null,
            "grid_area": null,
            "grid_auto_columns": null,
            "grid_auto_flow": null,
            "grid_auto_rows": null,
            "grid_column": null,
            "grid_gap": null,
            "grid_row": null,
            "grid_template_areas": null,
            "grid_template_columns": null,
            "grid_template_rows": null,
            "height": null,
            "justify_content": null,
            "justify_items": null,
            "left": null,
            "margin": null,
            "max_height": null,
            "max_width": null,
            "min_height": null,
            "min_width": null,
            "object_fit": null,
            "object_position": null,
            "order": null,
            "overflow": null,
            "overflow_x": null,
            "overflow_y": null,
            "padding": null,
            "right": null,
            "top": null,
            "visibility": null,
            "width": null
          }
        },
        "b59660e02d354695a9ad468d01ebd1f8": {
          "model_module": "@jupyter-widgets/controls",
          "model_name": "ProgressStyleModel",
          "model_module_version": "1.5.0",
          "state": {
            "_model_module": "@jupyter-widgets/controls",
            "_model_module_version": "1.5.0",
            "_model_name": "ProgressStyleModel",
            "_view_count": null,
            "_view_module": "@jupyter-widgets/base",
            "_view_module_version": "1.2.0",
            "_view_name": "StyleView",
            "bar_color": null,
            "description_width": ""
          }
        },
        "bf595eb5d2454d18945f6a0070b23b72": {
          "model_module": "@jupyter-widgets/base",
          "model_name": "LayoutModel",
          "model_module_version": "1.2.0",
          "state": {
            "_model_module": "@jupyter-widgets/base",
            "_model_module_version": "1.2.0",
            "_model_name": "LayoutModel",
            "_view_count": null,
            "_view_module": "@jupyter-widgets/base",
            "_view_module_version": "1.2.0",
            "_view_name": "LayoutView",
            "align_content": null,
            "align_items": null,
            "align_self": null,
            "border": null,
            "bottom": null,
            "display": null,
            "flex": null,
            "flex_flow": null,
            "grid_area": null,
            "grid_auto_columns": null,
            "grid_auto_flow": null,
            "grid_auto_rows": null,
            "grid_column": null,
            "grid_gap": null,
            "grid_row": null,
            "grid_template_areas": null,
            "grid_template_columns": null,
            "grid_template_rows": null,
            "height": null,
            "justify_content": null,
            "justify_items": null,
            "left": null,
            "margin": null,
            "max_height": null,
            "max_width": null,
            "min_height": null,
            "min_width": null,
            "object_fit": null,
            "object_position": null,
            "order": null,
            "overflow": null,
            "overflow_x": null,
            "overflow_y": null,
            "padding": null,
            "right": null,
            "top": null,
            "visibility": null,
            "width": null
          }
        },
        "43eababe50e446ceacd7f13931e8f225": {
          "model_module": "@jupyter-widgets/controls",
          "model_name": "DescriptionStyleModel",
          "model_module_version": "1.5.0",
          "state": {
            "_model_module": "@jupyter-widgets/controls",
            "_model_module_version": "1.5.0",
            "_model_name": "DescriptionStyleModel",
            "_view_count": null,
            "_view_module": "@jupyter-widgets/base",
            "_view_module_version": "1.2.0",
            "_view_name": "StyleView",
            "description_width": ""
          }
        },
        "eba5d73d7cb6418681341b51e7ad95bd": {
          "model_module": "@jupyter-widgets/controls",
          "model_name": "HBoxModel",
          "model_module_version": "1.5.0",
          "state": {
            "_dom_classes": [],
            "_model_module": "@jupyter-widgets/controls",
            "_model_module_version": "1.5.0",
            "_model_name": "HBoxModel",
            "_view_count": null,
            "_view_module": "@jupyter-widgets/controls",
            "_view_module_version": "1.5.0",
            "_view_name": "HBoxView",
            "box_style": "",
            "children": [
              "IPY_MODEL_c6bb0d95118e42f093768c4cd0aa4aa2",
              "IPY_MODEL_ca5bd5b722a84cf8a2884537e7eafca3",
              "IPY_MODEL_59bccb8b1ff641249c9c01e575e8f7ca"
            ],
            "layout": "IPY_MODEL_f4e8e25e552446e3bed86e12ab8a653b"
          }
        },
        "c6bb0d95118e42f093768c4cd0aa4aa2": {
          "model_module": "@jupyter-widgets/controls",
          "model_name": "HTMLModel",
          "model_module_version": "1.5.0",
          "state": {
            "_dom_classes": [],
            "_model_module": "@jupyter-widgets/controls",
            "_model_module_version": "1.5.0",
            "_model_name": "HTMLModel",
            "_view_count": null,
            "_view_module": "@jupyter-widgets/controls",
            "_view_module_version": "1.5.0",
            "_view_name": "HTMLView",
            "description": "",
            "description_tooltip": null,
            "layout": "IPY_MODEL_4a3d5e2b95024c299e49bbae6c8e53bc",
            "placeholder": "​",
            "style": "IPY_MODEL_9eef61a1aa7d4fe1a5a4a60782289273",
            "value": "Generating validation split: 100%"
          }
        },
        "ca5bd5b722a84cf8a2884537e7eafca3": {
          "model_module": "@jupyter-widgets/controls",
          "model_name": "FloatProgressModel",
          "model_module_version": "1.5.0",
          "state": {
            "_dom_classes": [],
            "_model_module": "@jupyter-widgets/controls",
            "_model_module_version": "1.5.0",
            "_model_name": "FloatProgressModel",
            "_view_count": null,
            "_view_module": "@jupyter-widgets/controls",
            "_view_module_version": "1.5.0",
            "_view_name": "ProgressView",
            "bar_style": "success",
            "description": "",
            "description_tooltip": null,
            "layout": "IPY_MODEL_91ac1d81ada74b34b5b68aa409c47009",
            "max": 7931,
            "min": 0,
            "orientation": "horizontal",
            "style": "IPY_MODEL_cc5fb1450141485abb3463ead8ee2e7e",
            "value": 7931
          }
        },
        "59bccb8b1ff641249c9c01e575e8f7ca": {
          "model_module": "@jupyter-widgets/controls",
          "model_name": "HTMLModel",
          "model_module_version": "1.5.0",
          "state": {
            "_dom_classes": [],
            "_model_module": "@jupyter-widgets/controls",
            "_model_module_version": "1.5.0",
            "_model_name": "HTMLModel",
            "_view_count": null,
            "_view_module": "@jupyter-widgets/controls",
            "_view_module_version": "1.5.0",
            "_view_name": "HTMLView",
            "description": "",
            "description_tooltip": null,
            "layout": "IPY_MODEL_1a7f242ae2ab44cfa3a4d854e7aad468",
            "placeholder": "​",
            "style": "IPY_MODEL_e7799a826fbe4ff5b8cf5eca236cdc6a",
            "value": " 7931/7931 [00:00&lt;00:00, 29172.08 examples/s]"
          }
        },
        "f4e8e25e552446e3bed86e12ab8a653b": {
          "model_module": "@jupyter-widgets/base",
          "model_name": "LayoutModel",
          "model_module_version": "1.2.0",
          "state": {
            "_model_module": "@jupyter-widgets/base",
            "_model_module_version": "1.2.0",
            "_model_name": "LayoutModel",
            "_view_count": null,
            "_view_module": "@jupyter-widgets/base",
            "_view_module_version": "1.2.0",
            "_view_name": "LayoutView",
            "align_content": null,
            "align_items": null,
            "align_self": null,
            "border": null,
            "bottom": null,
            "display": null,
            "flex": null,
            "flex_flow": null,
            "grid_area": null,
            "grid_auto_columns": null,
            "grid_auto_flow": null,
            "grid_auto_rows": null,
            "grid_column": null,
            "grid_gap": null,
            "grid_row": null,
            "grid_template_areas": null,
            "grid_template_columns": null,
            "grid_template_rows": null,
            "height": null,
            "justify_content": null,
            "justify_items": null,
            "left": null,
            "margin": null,
            "max_height": null,
            "max_width": null,
            "min_height": null,
            "min_width": null,
            "object_fit": null,
            "object_position": null,
            "order": null,
            "overflow": null,
            "overflow_x": null,
            "overflow_y": null,
            "padding": null,
            "right": null,
            "top": null,
            "visibility": null,
            "width": null
          }
        },
        "4a3d5e2b95024c299e49bbae6c8e53bc": {
          "model_module": "@jupyter-widgets/base",
          "model_name": "LayoutModel",
          "model_module_version": "1.2.0",
          "state": {
            "_model_module": "@jupyter-widgets/base",
            "_model_module_version": "1.2.0",
            "_model_name": "LayoutModel",
            "_view_count": null,
            "_view_module": "@jupyter-widgets/base",
            "_view_module_version": "1.2.0",
            "_view_name": "LayoutView",
            "align_content": null,
            "align_items": null,
            "align_self": null,
            "border": null,
            "bottom": null,
            "display": null,
            "flex": null,
            "flex_flow": null,
            "grid_area": null,
            "grid_auto_columns": null,
            "grid_auto_flow": null,
            "grid_auto_rows": null,
            "grid_column": null,
            "grid_gap": null,
            "grid_row": null,
            "grid_template_areas": null,
            "grid_template_columns": null,
            "grid_template_rows": null,
            "height": null,
            "justify_content": null,
            "justify_items": null,
            "left": null,
            "margin": null,
            "max_height": null,
            "max_width": null,
            "min_height": null,
            "min_width": null,
            "object_fit": null,
            "object_position": null,
            "order": null,
            "overflow": null,
            "overflow_x": null,
            "overflow_y": null,
            "padding": null,
            "right": null,
            "top": null,
            "visibility": null,
            "width": null
          }
        },
        "9eef61a1aa7d4fe1a5a4a60782289273": {
          "model_module": "@jupyter-widgets/controls",
          "model_name": "DescriptionStyleModel",
          "model_module_version": "1.5.0",
          "state": {
            "_model_module": "@jupyter-widgets/controls",
            "_model_module_version": "1.5.0",
            "_model_name": "DescriptionStyleModel",
            "_view_count": null,
            "_view_module": "@jupyter-widgets/base",
            "_view_module_version": "1.2.0",
            "_view_name": "StyleView",
            "description_width": ""
          }
        },
        "91ac1d81ada74b34b5b68aa409c47009": {
          "model_module": "@jupyter-widgets/base",
          "model_name": "LayoutModel",
          "model_module_version": "1.2.0",
          "state": {
            "_model_module": "@jupyter-widgets/base",
            "_model_module_version": "1.2.0",
            "_model_name": "LayoutModel",
            "_view_count": null,
            "_view_module": "@jupyter-widgets/base",
            "_view_module_version": "1.2.0",
            "_view_name": "LayoutView",
            "align_content": null,
            "align_items": null,
            "align_self": null,
            "border": null,
            "bottom": null,
            "display": null,
            "flex": null,
            "flex_flow": null,
            "grid_area": null,
            "grid_auto_columns": null,
            "grid_auto_flow": null,
            "grid_auto_rows": null,
            "grid_column": null,
            "grid_gap": null,
            "grid_row": null,
            "grid_template_areas": null,
            "grid_template_columns": null,
            "grid_template_rows": null,
            "height": null,
            "justify_content": null,
            "justify_items": null,
            "left": null,
            "margin": null,
            "max_height": null,
            "max_width": null,
            "min_height": null,
            "min_width": null,
            "object_fit": null,
            "object_position": null,
            "order": null,
            "overflow": null,
            "overflow_x": null,
            "overflow_y": null,
            "padding": null,
            "right": null,
            "top": null,
            "visibility": null,
            "width": null
          }
        },
        "cc5fb1450141485abb3463ead8ee2e7e": {
          "model_module": "@jupyter-widgets/controls",
          "model_name": "ProgressStyleModel",
          "model_module_version": "1.5.0",
          "state": {
            "_model_module": "@jupyter-widgets/controls",
            "_model_module_version": "1.5.0",
            "_model_name": "ProgressStyleModel",
            "_view_count": null,
            "_view_module": "@jupyter-widgets/base",
            "_view_module_version": "1.2.0",
            "_view_name": "StyleView",
            "bar_color": null,
            "description_width": ""
          }
        },
        "1a7f242ae2ab44cfa3a4d854e7aad468": {
          "model_module": "@jupyter-widgets/base",
          "model_name": "LayoutModel",
          "model_module_version": "1.2.0",
          "state": {
            "_model_module": "@jupyter-widgets/base",
            "_model_module_version": "1.2.0",
            "_model_name": "LayoutModel",
            "_view_count": null,
            "_view_module": "@jupyter-widgets/base",
            "_view_module_version": "1.2.0",
            "_view_name": "LayoutView",
            "align_content": null,
            "align_items": null,
            "align_self": null,
            "border": null,
            "bottom": null,
            "display": null,
            "flex": null,
            "flex_flow": null,
            "grid_area": null,
            "grid_auto_columns": null,
            "grid_auto_flow": null,
            "grid_auto_rows": null,
            "grid_column": null,
            "grid_gap": null,
            "grid_row": null,
            "grid_template_areas": null,
            "grid_template_columns": null,
            "grid_template_rows": null,
            "height": null,
            "justify_content": null,
            "justify_items": null,
            "left": null,
            "margin": null,
            "max_height": null,
            "max_width": null,
            "min_height": null,
            "min_width": null,
            "object_fit": null,
            "object_position": null,
            "order": null,
            "overflow": null,
            "overflow_x": null,
            "overflow_y": null,
            "padding": null,
            "right": null,
            "top": null,
            "visibility": null,
            "width": null
          }
        },
        "e7799a826fbe4ff5b8cf5eca236cdc6a": {
          "model_module": "@jupyter-widgets/controls",
          "model_name": "DescriptionStyleModel",
          "model_module_version": "1.5.0",
          "state": {
            "_model_module": "@jupyter-widgets/controls",
            "_model_module_version": "1.5.0",
            "_model_name": "DescriptionStyleModel",
            "_view_count": null,
            "_view_module": "@jupyter-widgets/base",
            "_view_module_version": "1.2.0",
            "_view_name": "StyleView",
            "description_width": ""
          }
        }
      }
    }
  },
  "cells": [
    {
      "cell_type": "markdown",
      "source": [
        "# Package Installation"
      ],
      "metadata": {
        "id": "R8MXqW_MWDTF"
      }
    },
    {
      "cell_type": "code",
      "metadata": {
        "id": "xuKJ4wBU6gxx",
        "colab": {
          "base_uri": "https://localhost:8080/"
        },
        "outputId": "eacaa1c7-ad5d-4ec4-c8af-aa547bf0ecd6"
      },
      "source": [
        "!pip install ffmpeg-python"
      ],
      "execution_count": 3,
      "outputs": [
        {
          "output_type": "stream",
          "name": "stdout",
          "text": [
            "Requirement already satisfied: ffmpeg-python in /usr/local/lib/python3.10/dist-packages (0.2.0)\n",
            "Requirement already satisfied: future in /usr/local/lib/python3.10/dist-packages (from ffmpeg-python) (1.0.0)\n"
          ]
        }
      ]
    },
    {
      "cell_type": "code",
      "source": [
        "!pip install speechbrain"
      ],
      "metadata": {
        "colab": {
          "base_uri": "https://localhost:8080/"
        },
        "collapsed": true,
        "id": "RN6Xo0NmD5pj",
        "outputId": "d262b6dd-57d8-41e8-c751-d1c3492e7c18"
      },
      "execution_count": 4,
      "outputs": [
        {
          "output_type": "stream",
          "name": "stdout",
          "text": [
            "Requirement already satisfied: speechbrain in /usr/local/lib/python3.10/dist-packages (1.0.0)\n",
            "Requirement already satisfied: hyperpyyaml in /usr/local/lib/python3.10/dist-packages (from speechbrain) (1.2.2)\n",
            "Requirement already satisfied: joblib in /usr/local/lib/python3.10/dist-packages (from speechbrain) (1.4.2)\n",
            "Requirement already satisfied: numpy in /usr/local/lib/python3.10/dist-packages (from speechbrain) (1.26.4)\n",
            "Requirement already satisfied: packaging in /usr/local/lib/python3.10/dist-packages (from speechbrain) (24.1)\n",
            "Requirement already satisfied: scipy in /usr/local/lib/python3.10/dist-packages (from speechbrain) (1.13.1)\n",
            "Requirement already satisfied: sentencepiece in /usr/local/lib/python3.10/dist-packages (from speechbrain) (0.1.99)\n",
            "Requirement already satisfied: torch>=1.9 in /usr/local/lib/python3.10/dist-packages (from speechbrain) (2.3.1+cu121)\n",
            "Requirement already satisfied: torchaudio in /usr/local/lib/python3.10/dist-packages (from speechbrain) (2.3.1+cu121)\n",
            "Requirement already satisfied: tqdm in /usr/local/lib/python3.10/dist-packages (from speechbrain) (4.66.5)\n",
            "Requirement already satisfied: huggingface-hub in /usr/local/lib/python3.10/dist-packages (from speechbrain) (0.23.5)\n",
            "Requirement already satisfied: filelock in /usr/local/lib/python3.10/dist-packages (from torch>=1.9->speechbrain) (3.15.4)\n",
            "Requirement already satisfied: typing-extensions>=4.8.0 in /usr/local/lib/python3.10/dist-packages (from torch>=1.9->speechbrain) (4.12.2)\n",
            "Requirement already satisfied: sympy in /usr/local/lib/python3.10/dist-packages (from torch>=1.9->speechbrain) (1.13.1)\n",
            "Requirement already satisfied: networkx in /usr/local/lib/python3.10/dist-packages (from torch>=1.9->speechbrain) (3.3)\n",
            "Requirement already satisfied: jinja2 in /usr/local/lib/python3.10/dist-packages (from torch>=1.9->speechbrain) (3.1.4)\n",
            "Requirement already satisfied: fsspec in /usr/local/lib/python3.10/dist-packages (from torch>=1.9->speechbrain) (2024.6.1)\n",
            "Requirement already satisfied: nvidia-cuda-nvrtc-cu12==12.1.105 in /usr/local/lib/python3.10/dist-packages (from torch>=1.9->speechbrain) (12.1.105)\n",
            "Requirement already satisfied: nvidia-cuda-runtime-cu12==12.1.105 in /usr/local/lib/python3.10/dist-packages (from torch>=1.9->speechbrain) (12.1.105)\n",
            "Requirement already satisfied: nvidia-cuda-cupti-cu12==12.1.105 in /usr/local/lib/python3.10/dist-packages (from torch>=1.9->speechbrain) (12.1.105)\n",
            "Requirement already satisfied: nvidia-cudnn-cu12==8.9.2.26 in /usr/local/lib/python3.10/dist-packages (from torch>=1.9->speechbrain) (8.9.2.26)\n",
            "Requirement already satisfied: nvidia-cublas-cu12==12.1.3.1 in /usr/local/lib/python3.10/dist-packages (from torch>=1.9->speechbrain) (12.1.3.1)\n",
            "Requirement already satisfied: nvidia-cufft-cu12==11.0.2.54 in /usr/local/lib/python3.10/dist-packages (from torch>=1.9->speechbrain) (11.0.2.54)\n",
            "Requirement already satisfied: nvidia-curand-cu12==10.3.2.106 in /usr/local/lib/python3.10/dist-packages (from torch>=1.9->speechbrain) (10.3.2.106)\n",
            "Requirement already satisfied: nvidia-cusolver-cu12==11.4.5.107 in /usr/local/lib/python3.10/dist-packages (from torch>=1.9->speechbrain) (11.4.5.107)\n",
            "Requirement already satisfied: nvidia-cusparse-cu12==12.1.0.106 in /usr/local/lib/python3.10/dist-packages (from torch>=1.9->speechbrain) (12.1.0.106)\n",
            "Requirement already satisfied: nvidia-nccl-cu12==2.20.5 in /usr/local/lib/python3.10/dist-packages (from torch>=1.9->speechbrain) (2.20.5)\n",
            "Requirement already satisfied: nvidia-nvtx-cu12==12.1.105 in /usr/local/lib/python3.10/dist-packages (from torch>=1.9->speechbrain) (12.1.105)\n",
            "Requirement already satisfied: triton==2.3.1 in /usr/local/lib/python3.10/dist-packages (from torch>=1.9->speechbrain) (2.3.1)\n",
            "Requirement already satisfied: nvidia-nvjitlink-cu12 in /usr/local/lib/python3.10/dist-packages (from nvidia-cusolver-cu12==11.4.5.107->torch>=1.9->speechbrain) (12.6.20)\n",
            "Requirement already satisfied: pyyaml>=5.1 in /usr/local/lib/python3.10/dist-packages (from huggingface-hub->speechbrain) (6.0.2)\n",
            "Requirement already satisfied: requests in /usr/local/lib/python3.10/dist-packages (from huggingface-hub->speechbrain) (2.32.3)\n",
            "Requirement already satisfied: ruamel.yaml>=0.17.28 in /usr/local/lib/python3.10/dist-packages (from hyperpyyaml->speechbrain) (0.18.6)\n",
            "Requirement already satisfied: ruamel.yaml.clib>=0.2.7 in /usr/local/lib/python3.10/dist-packages (from ruamel.yaml>=0.17.28->hyperpyyaml->speechbrain) (0.2.8)\n",
            "Requirement already satisfied: MarkupSafe>=2.0 in /usr/local/lib/python3.10/dist-packages (from jinja2->torch>=1.9->speechbrain) (2.1.5)\n",
            "Requirement already satisfied: charset-normalizer<4,>=2 in /usr/local/lib/python3.10/dist-packages (from requests->huggingface-hub->speechbrain) (3.3.2)\n",
            "Requirement already satisfied: idna<4,>=2.5 in /usr/local/lib/python3.10/dist-packages (from requests->huggingface-hub->speechbrain) (3.7)\n",
            "Requirement already satisfied: urllib3<3,>=1.21.1 in /usr/local/lib/python3.10/dist-packages (from requests->huggingface-hub->speechbrain) (2.0.7)\n",
            "Requirement already satisfied: certifi>=2017.4.17 in /usr/local/lib/python3.10/dist-packages (from requests->huggingface-hub->speechbrain) (2024.7.4)\n",
            "Requirement already satisfied: mpmath<1.4,>=1.1.0 in /usr/local/lib/python3.10/dist-packages (from sympy->torch>=1.9->speechbrain) (1.3.0)\n"
          ]
        }
      ]
    },
    {
      "cell_type": "code",
      "source": [
        "!pip install datasets"
      ],
      "metadata": {
        "colab": {
          "base_uri": "https://localhost:8080/",
          "height": 0
        },
        "collapsed": true,
        "id": "5PKozc0Kc4qH",
        "outputId": "467cd7ea-4037-4b14-dbeb-0f99ac9b884e"
      },
      "execution_count": 20,
      "outputs": [
        {
          "output_type": "stream",
          "name": "stdout",
          "text": [
            "Collecting datasets\n",
            "  Downloading datasets-2.21.0-py3-none-any.whl.metadata (21 kB)\n",
            "Requirement already satisfied: filelock in /usr/local/lib/python3.10/dist-packages (from datasets) (3.15.4)\n",
            "Requirement already satisfied: numpy>=1.17 in /usr/local/lib/python3.10/dist-packages (from datasets) (1.26.4)\n",
            "Collecting pyarrow>=15.0.0 (from datasets)\n",
            "  Downloading pyarrow-17.0.0-cp310-cp310-manylinux_2_28_x86_64.whl.metadata (3.3 kB)\n",
            "Collecting dill<0.3.9,>=0.3.0 (from datasets)\n",
            "  Downloading dill-0.3.8-py3-none-any.whl.metadata (10 kB)\n",
            "Requirement already satisfied: pandas in /usr/local/lib/python3.10/dist-packages (from datasets) (2.1.4)\n",
            "Requirement already satisfied: requests>=2.32.2 in /usr/local/lib/python3.10/dist-packages (from datasets) (2.32.3)\n",
            "Requirement already satisfied: tqdm>=4.66.3 in /usr/local/lib/python3.10/dist-packages (from datasets) (4.66.5)\n",
            "Collecting xxhash (from datasets)\n",
            "  Downloading xxhash-3.4.1-cp310-cp310-manylinux_2_17_x86_64.manylinux2014_x86_64.whl.metadata (12 kB)\n",
            "Collecting multiprocess (from datasets)\n",
            "  Downloading multiprocess-0.70.16-py310-none-any.whl.metadata (7.2 kB)\n",
            "Requirement already satisfied: fsspec<=2024.6.1,>=2023.1.0 in /usr/local/lib/python3.10/dist-packages (from fsspec[http]<=2024.6.1,>=2023.1.0->datasets) (2024.6.1)\n",
            "Requirement already satisfied: aiohttp in /usr/local/lib/python3.10/dist-packages (from datasets) (3.10.2)\n",
            "Requirement already satisfied: huggingface-hub>=0.21.2 in /usr/local/lib/python3.10/dist-packages (from datasets) (0.23.5)\n",
            "Requirement already satisfied: packaging in /usr/local/lib/python3.10/dist-packages (from datasets) (24.1)\n",
            "Requirement already satisfied: pyyaml>=5.1 in /usr/local/lib/python3.10/dist-packages (from datasets) (6.0.2)\n",
            "Requirement already satisfied: aiohappyeyeballs>=2.3.0 in /usr/local/lib/python3.10/dist-packages (from aiohttp->datasets) (2.3.5)\n",
            "Requirement already satisfied: aiosignal>=1.1.2 in /usr/local/lib/python3.10/dist-packages (from aiohttp->datasets) (1.3.1)\n",
            "Requirement already satisfied: attrs>=17.3.0 in /usr/local/lib/python3.10/dist-packages (from aiohttp->datasets) (24.2.0)\n",
            "Requirement already satisfied: frozenlist>=1.1.1 in /usr/local/lib/python3.10/dist-packages (from aiohttp->datasets) (1.4.1)\n",
            "Requirement already satisfied: multidict<7.0,>=4.5 in /usr/local/lib/python3.10/dist-packages (from aiohttp->datasets) (6.0.5)\n",
            "Requirement already satisfied: yarl<2.0,>=1.0 in /usr/local/lib/python3.10/dist-packages (from aiohttp->datasets) (1.9.4)\n",
            "Requirement already satisfied: async-timeout<5.0,>=4.0 in /usr/local/lib/python3.10/dist-packages (from aiohttp->datasets) (4.0.3)\n",
            "Requirement already satisfied: typing-extensions>=3.7.4.3 in /usr/local/lib/python3.10/dist-packages (from huggingface-hub>=0.21.2->datasets) (4.12.2)\n",
            "Requirement already satisfied: charset-normalizer<4,>=2 in /usr/local/lib/python3.10/dist-packages (from requests>=2.32.2->datasets) (3.3.2)\n",
            "Requirement already satisfied: idna<4,>=2.5 in /usr/local/lib/python3.10/dist-packages (from requests>=2.32.2->datasets) (3.7)\n",
            "Requirement already satisfied: urllib3<3,>=1.21.1 in /usr/local/lib/python3.10/dist-packages (from requests>=2.32.2->datasets) (2.0.7)\n",
            "Requirement already satisfied: certifi>=2017.4.17 in /usr/local/lib/python3.10/dist-packages (from requests>=2.32.2->datasets) (2024.7.4)\n",
            "Requirement already satisfied: python-dateutil>=2.8.2 in /usr/local/lib/python3.10/dist-packages (from pandas->datasets) (2.8.2)\n",
            "Requirement already satisfied: pytz>=2020.1 in /usr/local/lib/python3.10/dist-packages (from pandas->datasets) (2024.1)\n",
            "Requirement already satisfied: tzdata>=2022.1 in /usr/local/lib/python3.10/dist-packages (from pandas->datasets) (2024.1)\n",
            "Requirement already satisfied: six>=1.5 in /usr/local/lib/python3.10/dist-packages (from python-dateutil>=2.8.2->pandas->datasets) (1.16.0)\n",
            "Downloading datasets-2.21.0-py3-none-any.whl (527 kB)\n",
            "\u001b[2K   \u001b[90m━━━━━━━━━━━━━━━━━━━━━━━━━━━━━━━━━━━━━━━━\u001b[0m \u001b[32m527.3/527.3 kB\u001b[0m \u001b[31m9.7 MB/s\u001b[0m eta \u001b[36m0:00:00\u001b[0m\n",
            "\u001b[?25hDownloading dill-0.3.8-py3-none-any.whl (116 kB)\n",
            "\u001b[2K   \u001b[90m━━━━━━━━━━━━━━━━━━━━━━━━━━━━━━━━━━━━━━━━\u001b[0m \u001b[32m116.3/116.3 kB\u001b[0m \u001b[31m7.5 MB/s\u001b[0m eta \u001b[36m0:00:00\u001b[0m\n",
            "\u001b[?25hDownloading pyarrow-17.0.0-cp310-cp310-manylinux_2_28_x86_64.whl (39.9 MB)\n",
            "\u001b[2K   \u001b[90m━━━━━━━━━━━━━━━━━━━━━━━━━━━━━━━━━━━━━━━━\u001b[0m \u001b[32m39.9/39.9 MB\u001b[0m \u001b[31m11.4 MB/s\u001b[0m eta \u001b[36m0:00:00\u001b[0m\n",
            "\u001b[?25hDownloading multiprocess-0.70.16-py310-none-any.whl (134 kB)\n",
            "\u001b[2K   \u001b[90m━━━━━━━━━━━━━━━━━━━━━━━━━━━━━━━━━━━━━━━━\u001b[0m \u001b[32m134.8/134.8 kB\u001b[0m \u001b[31m5.6 MB/s\u001b[0m eta \u001b[36m0:00:00\u001b[0m\n",
            "\u001b[?25hDownloading xxhash-3.4.1-cp310-cp310-manylinux_2_17_x86_64.manylinux2014_x86_64.whl (194 kB)\n",
            "\u001b[2K   \u001b[90m━━━━━━━━━━━━━━━━━━━━━━━━━━━━━━━━━━━━━━━━\u001b[0m \u001b[32m194.1/194.1 kB\u001b[0m \u001b[31m12.1 MB/s\u001b[0m eta \u001b[36m0:00:00\u001b[0m\n",
            "\u001b[?25hInstalling collected packages: xxhash, pyarrow, dill, multiprocess, datasets\n",
            "  Attempting uninstall: pyarrow\n",
            "    Found existing installation: pyarrow 14.0.2\n",
            "    Uninstalling pyarrow-14.0.2:\n",
            "      Successfully uninstalled pyarrow-14.0.2\n",
            "\u001b[31mERROR: pip's dependency resolver does not currently take into account all the packages that are installed. This behaviour is the source of the following dependency conflicts.\n",
            "cudf-cu12 24.4.1 requires pyarrow<15.0.0a0,>=14.0.1, but you have pyarrow 17.0.0 which is incompatible.\n",
            "ibis-framework 8.0.0 requires pyarrow<16,>=2, but you have pyarrow 17.0.0 which is incompatible.\u001b[0m\u001b[31m\n",
            "\u001b[0mSuccessfully installed datasets-2.21.0 dill-0.3.8 multiprocess-0.70.16 pyarrow-17.0.0 xxhash-3.4.1\n"
          ]
        },
        {
          "output_type": "display_data",
          "data": {
            "application/vnd.colab-display-data+json": {
              "pip_warning": {
                "packages": [
                  "pyarrow"
                ]
              },
              "id": "676683063ac64d0dae1e0a9ba34a6c3a"
            }
          },
          "metadata": {}
        }
      ]
    },
    {
      "cell_type": "markdown",
      "source": [
        "# Hugging Face Login"
      ],
      "metadata": {
        "id": "OCRLcF8tWVZ-"
      }
    },
    {
      "cell_type": "code",
      "source": [
        "from huggingface_hub import notebook_login\n",
        "\n",
        "notebook_login()"
      ],
      "metadata": {
        "colab": {
          "base_uri": "https://localhost:8080/",
          "height": 145,
          "referenced_widgets": [
            "e8cee270b66245f4b645e06a251a013d",
            "d1465ececcd447bd984516c6f471d842",
            "35d180dd16a64078aaa38a74ecedb7ec",
            "1dd8df43bff3435ca71920a40f7c298a",
            "3dbd5e922a984e97ab545468d37ad867",
            "f0f140bbc1f647e5acfe9fb3ceef1335",
            "603be12efa0b448aae89851726019d48",
            "9a1f08bd9b2e4e55b5be6fa85d2da133",
            "0fc09106ad6144879a2b5794a1c3a861",
            "37efa5c57f5f4b4599d60ca29d120a50",
            "a0d5faffa64a4f6abe2a3524ae1699f1",
            "eec08a951d3a47bc947f3b17fe877037",
            "4d0220e516dd4cdc8f64538fbe7d1770",
            "61d19b57b4bf425f8356bfe2409d9811",
            "2f6031f484594d5d83e3e840d5e26f85",
            "2b3e49f08b744d44b550f256f56b88da",
            "47b5f961df3842f794afd1b9ba7f9d19",
            "9ecc652688454bc2a11e400ac5ed0d81",
            "7a0a3f5015ac451085a1dd27087c91f1",
            "ec7e447524134678a87430eb87b1bfcf",
            "5f2ae9cbf17c46e0998c9b2eeff94f85",
            "0025f0b05ab14084a53b81feb59c4ca1",
            "b6e3db1587b34d35a1c4ca36a1df3f55",
            "3d256557ae55410988bb7791b3c798af",
            "562c99deb1a7481ca711fcb7d1d1cc34",
            "dd8664bed30c43a387a215da570ba290",
            "b37583fbfc204f4199ee436040e66acf",
            "58c7759862d4428aa18318ba96cc77cf",
            "a28a6aef8e3c49ee87ffdea7d6c9998f",
            "bd43ec75e5f24947846882022bca1771",
            "4c577baa7b9943ca9a8f0800a7c22ff4",
            "353de178d91b41e59600812429d55ef3"
          ]
        },
        "id": "lS7EosmEU5CG",
        "outputId": "af0c7485-134d-4275-beb4-cf1b0f24039a"
      },
      "execution_count": 2,
      "outputs": [
        {
          "output_type": "display_data",
          "data": {
            "text/plain": [
              "VBox(children=(HTML(value='<center> <img\\nsrc=https://huggingface.co/front/assets/huggingface_logo-noborder.sv…"
            ],
            "application/vnd.jupyter.widget-view+json": {
              "version_major": 2,
              "version_minor": 0,
              "model_id": "e8cee270b66245f4b645e06a251a013d"
            }
          },
          "metadata": {}
        }
      ]
    },
    {
      "cell_type": "markdown",
      "source": [
        "# Wake Word Detection"
      ],
      "metadata": {
        "id": "9_DRmU2lWeAt"
      }
    },
    {
      "cell_type": "markdown",
      "source": [
        "## 1.Recording Audio"
      ],
      "metadata": {
        "id": "idbGdNqgWodE"
      }
    },
    {
      "cell_type": "code",
      "source": [
        "# Javascript code record audio from Google Colab\n",
        "from IPython.display import HTML, Audio\n",
        "from google.colab.output import eval_js\n",
        "from base64 import b64decode\n",
        "import numpy as np\n",
        "from scipy.io.wavfile import read as wav_read\n",
        "import io\n",
        "import ffmpeg\n",
        "\n",
        "AUDIO_HTML = \"\"\"\n",
        "<script>\n",
        "var my_div = document.createElement(\"DIV\");\n",
        "var my_p = document.createElement(\"P\");\n",
        "var my_btn = document.createElement(\"BUTTON\");\n",
        "var t = document.createTextNode(\"Press to start recording\");\n",
        "\n",
        "my_btn.appendChild(t);\n",
        "//my_p.appendChild(my_btn);\n",
        "my_div.appendChild(my_btn);\n",
        "document.body.appendChild(my_div);\n",
        "\n",
        "var base64data = 0;\n",
        "var reader;\n",
        "var recorder, gumStream;\n",
        "var recordButton = my_btn;\n",
        "\n",
        "var handleSuccess = function(stream) {\n",
        "  gumStream = stream;\n",
        "  var options = {\n",
        "    //bitsPerSecond: 8000, //chrome seems to ignore, always 48k\n",
        "    mimeType : 'audio/webm;codecs=opus'\n",
        "    //mimeType : 'audio/webm;codecs=pcm'\n",
        "  };\n",
        "  //recorder = new MediaRecorder(stream, options);\n",
        "  recorder = new MediaRecorder(stream);\n",
        "  recorder.ondataavailable = function(e) {\n",
        "    var url = URL.createObjectURL(e.data);\n",
        "    var preview = document.createElement('audio');\n",
        "    preview.controls = true;\n",
        "    preview.src = url;\n",
        "    document.body.appendChild(preview);\n",
        "\n",
        "    reader = new FileReader();\n",
        "    reader.readAsDataURL(e.data);\n",
        "    reader.onloadend = function() {\n",
        "      base64data = reader.result;\n",
        "      //console.log(\"Inside FileReader:\" + base64data);\n",
        "    }\n",
        "  };\n",
        "  recorder.start();\n",
        "  };\n",
        "\n",
        "recordButton.innerText = \"Recording... press to stop\";\n",
        "\n",
        "navigator.mediaDevices.getUserMedia({audio: true}).then(handleSuccess);\n",
        "\n",
        "\n",
        "function toggleRecording() {\n",
        "  if (recorder && recorder.state == \"recording\") {\n",
        "      recorder.stop();\n",
        "      gumStream.getAudioTracks()[0].stop();\n",
        "      recordButton.innerText = \"Saving the recording... pls wait!\"\n",
        "  }\n",
        "}\n",
        "\n",
        "// https://stackoverflow.com/a/951057\n",
        "function sleep(ms) {\n",
        "  return new Promise(resolve => setTimeout(resolve, ms));\n",
        "}\n",
        "\n",
        "var data = new Promise(resolve=>{\n",
        "//recordButton.addEventListener(\"click\", toggleRecording);\n",
        "recordButton.onclick = ()=>{\n",
        "toggleRecording()\n",
        "\n",
        "sleep(2000).then(() => {\n",
        "  // wait 2000ms for the data to be available...\n",
        "  // ideally this should use something like await...\n",
        "  //console.log(\"Inside data:\" + base64data)\n",
        "  resolve(base64data.toString())\n",
        "\n",
        "});\n",
        "\n",
        "}\n",
        "});\n",
        "\n",
        "</script>\n",
        "\"\"\"\n",
        "\n",
        "def get_audio():\n",
        "  display(HTML(AUDIO_HTML))\n",
        "  data = eval_js(\"data\")\n",
        "  binary = b64decode(data.split(',')[1])\n",
        "\n",
        "  process = (ffmpeg\n",
        "    .input('pipe:0')\n",
        "    .output('pipe:1', format='wav')\n",
        "    .run_async(pipe_stdin=True, pipe_stdout=True, pipe_stderr=True, quiet=True, overwrite_output=True)\n",
        "  )\n",
        "  output, err = process.communicate(input=binary)\n",
        "\n",
        "  riff_chunk_size = len(output) - 8\n",
        "  # Break up the chunk size into four bytes, held in b.\n",
        "  q = riff_chunk_size\n",
        "  b = []\n",
        "  for i in range(4):\n",
        "      q, r = divmod(q, 256)\n",
        "      b.append(r)\n",
        "\n",
        "  # Replace bytes 4:8 in proc.stdout with the actual size of the RIFF chunk.\n",
        "  riff = output[:4] + bytes(b) + output[8:]\n",
        "\n",
        "  sr, audio = wav_read(io.BytesIO(riff))\n",
        "\n",
        "  return audio, sr"
      ],
      "metadata": {
        "id": "vo5SG6vVPZgU"
      },
      "execution_count": 5,
      "outputs": []
    },
    {
      "cell_type": "code",
      "source": [
        "audio, sr = get_audio() # Recording audio"
      ],
      "metadata": {
        "colab": {
          "base_uri": "https://localhost:8080/",
          "height": 96
        },
        "id": "6FQHqEhCPdWM",
        "outputId": "561cc290-ae66-4f0c-f51a-01b35e1d6b65"
      },
      "execution_count": 10,
      "outputs": [
        {
          "output_type": "display_data",
          "data": {
            "text/plain": [
              "<IPython.core.display.HTML object>"
            ],
            "text/html": [
              "\n",
              "<script>\n",
              "var my_div = document.createElement(\"DIV\");\n",
              "var my_p = document.createElement(\"P\");\n",
              "var my_btn = document.createElement(\"BUTTON\");\n",
              "var t = document.createTextNode(\"Press to start recording\");\n",
              "\n",
              "my_btn.appendChild(t);\n",
              "//my_p.appendChild(my_btn);\n",
              "my_div.appendChild(my_btn);\n",
              "document.body.appendChild(my_div);\n",
              "\n",
              "var base64data = 0;\n",
              "var reader;\n",
              "var recorder, gumStream;\n",
              "var recordButton = my_btn;\n",
              "\n",
              "var handleSuccess = function(stream) {\n",
              "  gumStream = stream;\n",
              "  var options = {\n",
              "    //bitsPerSecond: 8000, //chrome seems to ignore, always 48k\n",
              "    mimeType : 'audio/webm;codecs=opus'\n",
              "    //mimeType : 'audio/webm;codecs=pcm'\n",
              "  };\n",
              "  //recorder = new MediaRecorder(stream, options);\n",
              "  recorder = new MediaRecorder(stream);\n",
              "  recorder.ondataavailable = function(e) {\n",
              "    var url = URL.createObjectURL(e.data);\n",
              "    var preview = document.createElement('audio');\n",
              "    preview.controls = true;\n",
              "    preview.src = url;\n",
              "    document.body.appendChild(preview);\n",
              "\n",
              "    reader = new FileReader();\n",
              "    reader.readAsDataURL(e.data);\n",
              "    reader.onloadend = function() {\n",
              "      base64data = reader.result;\n",
              "      //console.log(\"Inside FileReader:\" + base64data);\n",
              "    }\n",
              "  };\n",
              "  recorder.start();\n",
              "  };\n",
              "\n",
              "recordButton.innerText = \"Recording... press to stop\";\n",
              "\n",
              "navigator.mediaDevices.getUserMedia({audio: true}).then(handleSuccess);\n",
              "\n",
              "\n",
              "function toggleRecording() {\n",
              "  if (recorder && recorder.state == \"recording\") {\n",
              "      recorder.stop();\n",
              "      gumStream.getAudioTracks()[0].stop();\n",
              "      recordButton.innerText = \"Saving the recording... pls wait!\"\n",
              "  }\n",
              "}\n",
              "\n",
              "// https://stackoverflow.com/a/951057\n",
              "function sleep(ms) {\n",
              "  return new Promise(resolve => setTimeout(resolve, ms));\n",
              "}\n",
              "\n",
              "var data = new Promise(resolve=>{\n",
              "//recordButton.addEventListener(\"click\", toggleRecording);\n",
              "recordButton.onclick = ()=>{\n",
              "toggleRecording()\n",
              "\n",
              "sleep(2000).then(() => {\n",
              "  // wait 2000ms for the data to be available...\n",
              "  // ideally this should use something like await...\n",
              "  //console.log(\"Inside data:\" + base64data)\n",
              "  resolve(base64data.toString())\n",
              "\n",
              "});\n",
              "\n",
              "}\n",
              "});\n",
              "\n",
              "</script>\n"
            ]
          },
          "metadata": {}
        }
      ]
    },
    {
      "cell_type": "code",
      "source": [
        "import scipy\n",
        "scipy.io.wavfile.write('recording.wav', sr, audio)  # Saving audio file"
      ],
      "metadata": {
        "id": "POqKIJGOPsPu"
      },
      "execution_count": 11,
      "outputs": []
    },
    {
      "cell_type": "markdown",
      "source": [
        "## 2. Wake Word Detection Model"
      ],
      "metadata": {
        "id": "M_zW3BMTWwEH"
      }
    },
    {
      "cell_type": "code",
      "source": [
        "import torchaudio\n",
        "import torch\n",
        "from transformers import Wav2Vec2ForCTC, Wav2Vec2Processor\n",
        "import soundfile as sf\n",
        "import librosa\n",
        "\n",
        "def detect_wake_word(filename=\"recording.wav\", wake_word=\"marvin\", prob_threshold=0.2):\n",
        "    # Load the pre-trained Wav2Vec2 model and processor from transformers\n",
        "    processor = Wav2Vec2Processor.from_pretrained(\"facebook/wav2vec2-base-960h\")\n",
        "    model = Wav2Vec2ForCTC.from_pretrained(\"facebook/wav2vec2-base-960h\")\n",
        "\n",
        "    # Load the audio file\n",
        "    waveform, sample_rate = sf.read(filename)\n",
        "\n",
        "    # Resample if necessary\n",
        "    if sample_rate != 16000:\n",
        "        waveform = librosa.resample(waveform, orig_sr=sample_rate, target_sr=16000)\n",
        "        sample_rate = 16000\n",
        "\n",
        "    # Normalize the audio data\n",
        "    waveform = (waveform - waveform.mean()) / waveform.std()\n",
        "\n",
        "    # Process the audio data\n",
        "    inputs = processor(waveform, sampling_rate=16000, return_tensors=\"pt\", padding=True)\n",
        "\n",
        "    # Run the audio through the model\n",
        "    with torch.no_grad():\n",
        "        logits = model(inputs.input_values).logits\n",
        "\n",
        "    # Compute probabilities\n",
        "    predicted_ids = torch.argmax(logits, dim=-1)\n",
        "    transcription = processor.batch_decode(predicted_ids)[0].lower()\n",
        "\n",
        "    print(f\"Transcription: {transcription}\")\n",
        "\n",
        "    # Check if the wake word is present in the transcription\n",
        "    wake_word_detected = wake_word in transcription\n",
        "    prob = 1.0 if wake_word_detected else 0.0  # Placeholder, real implementation would use a better scoring\n",
        "\n",
        "    if wake_word_detected and prob > prob_threshold:\n",
        "        print(\"Wake word detected with high probability!\")\n",
        "        return True\n",
        "    else:\n",
        "        print(\"Wake word not detected or probability too low.\")\n",
        "        return False\n",
        "\n",
        "# Detect wake word in the recorded audio file\n",
        "detect_wake_word()\n"
      ],
      "metadata": {
        "colab": {
          "base_uri": "https://localhost:8080/"
        },
        "id": "_lPw3CjYLe24",
        "outputId": "b05f886a-73c0-49e6-e5fa-b320b9819f02"
      },
      "execution_count": 6,
      "outputs": [
        {
          "output_type": "stream",
          "name": "stderr",
          "text": [
            "Some weights of the model checkpoint at facebook/wav2vec2-base-960h were not used when initializing Wav2Vec2ForCTC: ['wav2vec2.encoder.pos_conv_embed.conv.weight_g', 'wav2vec2.encoder.pos_conv_embed.conv.weight_v']\n",
            "- This IS expected if you are initializing Wav2Vec2ForCTC from the checkpoint of a model trained on another task or with another architecture (e.g. initializing a BertForSequenceClassification model from a BertForPreTraining model).\n",
            "- This IS NOT expected if you are initializing Wav2Vec2ForCTC from the checkpoint of a model that you expect to be exactly identical (initializing a BertForSequenceClassification model from a BertForSequenceClassification model).\n",
            "Some weights of Wav2Vec2ForCTC were not initialized from the model checkpoint at facebook/wav2vec2-base-960h and are newly initialized: ['wav2vec2.encoder.pos_conv_embed.conv.parametrizations.weight.original0', 'wav2vec2.encoder.pos_conv_embed.conv.parametrizations.weight.original1', 'wav2vec2.masked_spec_embed']\n",
            "You should probably TRAIN this model on a down-stream task to be able to use it for predictions and inference.\n"
          ]
        },
        {
          "output_type": "stream",
          "name": "stdout",
          "text": [
            "Transcription: hey marvin\n",
            "Wake word detected with high probability!\n"
          ]
        },
        {
          "output_type": "execute_result",
          "data": {
            "text/plain": [
              "True"
            ]
          },
          "metadata": {},
          "execution_count": 6
        }
      ]
    },
    {
      "cell_type": "markdown",
      "source": [
        "# Transcription (Automatic Speech Recognition)"
      ],
      "metadata": {
        "id": "sHij3TEzW1p2"
      }
    },
    {
      "cell_type": "code",
      "source": [
        "transcriber = pipeline(\n",
        "    \"automatic-speech-recognition\", model=\"openai/whisper-base.en\", device=device\n",
        ")"
      ],
      "metadata": {
        "id": "4t4-02zyQwZ2"
      },
      "execution_count": 8,
      "outputs": []
    },
    {
      "cell_type": "code",
      "source": [
        "import sys\n",
        "import soundfile as sf\n",
        "from transformers import pipeline\n",
        "\n",
        "def transcribe(filename=\"recording.wav\", chunk_length_s=10.0, stream_chunk_s=1.0):\n",
        "    # Load the Whisper model\n",
        "    transcriber = pipeline(\"automatic-speech-recognition\", model=\"openai/whisper-base.en\", device=device)\n",
        "\n",
        "    # Read the audio file\n",
        "    data, samplerate = sf.read(filename)\n",
        "\n",
        "    # Resample if necessary\n",
        "    if samplerate != transcriber.feature_extractor.sampling_rate:\n",
        "        import librosa\n",
        "        data = librosa.resample(data, orig_sr=samplerate, target_sr=transcriber.feature_extractor.sampling_rate)\n",
        "        # samplerate = transcriber.feature_extractor.sampling_rate # No need to update samplerate here\n",
        "\n",
        "    # Normalize the audio data\n",
        "    data = (data - data.mean()) / data.std()\n",
        "\n",
        "    # Process the audio data\n",
        "    # Pass the audio data directly to the transcriber pipeline, removing the sampling_rate argument\n",
        "    print(\"Transcribing audio...\")\n",
        "    transcription = transcriber(data, generate_kwargs={\"max_new_tokens\": 128}) # Remove sampling_rate here\n",
        "\n",
        "    print(transcription[\"text\"])\n",
        "    return transcription[\"text\"]\n",
        "\n",
        "# Transcribe the recorded audio file\n",
        "transcribed_text = transcribe()\n",
        "print(\"Transcription:\", transcribed_text)"
      ],
      "metadata": {
        "colab": {
          "base_uri": "https://localhost:8080/"
        },
        "id": "bfr0L0JCQQEM",
        "outputId": "5092f254-f272-40fc-9347-8dff2a2ad1f0"
      },
      "execution_count": 9,
      "outputs": [
        {
          "output_type": "stream",
          "name": "stderr",
          "text": [
            "/usr/local/lib/python3.10/dist-packages/transformers/models/whisper/generation_whisper.py:480: FutureWarning: The input name `inputs` is deprecated. Please make sure to use `input_features` instead.\n",
            "  warnings.warn(\n",
            "The attention mask is not set and cannot be inferred from input because pad token is same as eos token.As a consequence, you may observe unexpected behavior. Please pass your input's `attention_mask` to obtain reliable results.\n"
          ]
        },
        {
          "output_type": "stream",
          "name": "stdout",
          "text": [
            "Transcribing audio...\n",
            " Hey Marvin\n",
            "Transcription:  Hey Marvin\n"
          ]
        }
      ]
    },
    {
      "cell_type": "markdown",
      "source": [
        "# Querying LLM"
      ],
      "metadata": {
        "id": "YG0l6pv0XDV9"
      }
    },
    {
      "cell_type": "code",
      "source": [
        "from huggingface_hub import HfFolder\n",
        "import requests\n",
        "\n",
        "\n",
        "def query(text, model_id=\"mistralai/Mixtral-8x7B-Instruct-v0.1\"):\n",
        "    api_url = f\"https://api-inference.huggingface.co/models/{model_id}\"\n",
        "    headers = {\"Authorization\": f\"Bearer {HfFolder().get_token()}\"}\n",
        "    payload = {\"inputs\": text}\n",
        "\n",
        "    print(f\"Querying...: {text}\")\n",
        "    response = requests.post(api_url, headers=headers, json=payload)\n",
        "\n",
        "    #print(response.json())\n",
        "\n",
        "    return response.json()[0][\"generated_text\"][len(text) + 1 :]"
      ],
      "metadata": {
        "id": "WIj-WaF3T99n"
      },
      "execution_count": 10,
      "outputs": []
    },
    {
      "cell_type": "code",
      "source": [
        "query(\"What does Hugging Face do?\")"
      ],
      "metadata": {
        "colab": {
          "base_uri": "https://localhost:8080/",
          "height": 87
        },
        "id": "W8UjVnmgUW31",
        "outputId": "d21b7748-d4c6-4536-ae1f-a00075ee2e7a"
      },
      "execution_count": 11,
      "outputs": [
        {
          "output_type": "stream",
          "name": "stdout",
          "text": [
            "Querying...: What does Hugging Face do?\n"
          ]
        },
        {
          "output_type": "execute_result",
          "data": {
            "text/plain": [
              "'\\nHugging Face is an NLP startup launched in 2016 with headquarters in New York. It has become a popular face in the NLP world owing to its expertise in state-of-the-art NLP model development, education, and applications.\\n\\nThe team at Hugging Face continues to innovate in an ongoing quest to develop increasingly sophisticated models capable of reading, generating, understanding, and translating human language. Leaderboards like GLUE, S'"
            ],
            "application/vnd.google.colaboratory.intrinsic+json": {
              "type": "string"
            }
          },
          "metadata": {},
          "execution_count": 11
        }
      ]
    },
    {
      "cell_type": "markdown",
      "source": [
        "# Text-to-Speech"
      ],
      "metadata": {
        "id": "oDaTLOYZXI61"
      }
    },
    {
      "cell_type": "code",
      "source": [
        "from transformers import SpeechT5Processor, SpeechT5ForTextToSpeech, SpeechT5HifiGan\n",
        "\n",
        "processor = SpeechT5Processor.from_pretrained(\"microsoft/speecht5_tts\")\n",
        "\n",
        "model = SpeechT5ForTextToSpeech.from_pretrained(\"microsoft/speecht5_tts\").to(device)\n",
        "vocoder = SpeechT5HifiGan.from_pretrained(\"microsoft/speecht5_hifigan\").to(device)"
      ],
      "metadata": {
        "id": "BPZMooIsWdsW"
      },
      "execution_count": 12,
      "outputs": []
    },
    {
      "cell_type": "code",
      "source": [
        "from datasets import load_dataset\n",
        "\n",
        "embeddings_dataset = load_dataset(\"Matthijs/cmu-arctic-xvectors\", split=\"validation\")\n",
        "speaker_embeddings = torch.tensor(embeddings_dataset[7306][\"xvector\"]).unsqueeze(0)"
      ],
      "metadata": {
        "colab": {
          "base_uri": "https://localhost:8080/",
          "height": 81,
          "referenced_widgets": [
            "1e718c2b6788441fada2f5e712226092",
            "98a7aa66dc9848e68f57debc5211ad0e",
            "2b375d7625eb4ccf8b62dabab764a54c",
            "77d6d1e82b48411e90321320e933011a",
            "d84c6c61dacd46d3a960ac7ae32db0a9",
            "9792b318d552499d89312fa9f52dec57",
            "b1c926b0e35649ea8765cd5594b7862e",
            "a2398211031c47fcba5e7bc20744c04e",
            "b59660e02d354695a9ad468d01ebd1f8",
            "bf595eb5d2454d18945f6a0070b23b72",
            "43eababe50e446ceacd7f13931e8f225",
            "eba5d73d7cb6418681341b51e7ad95bd",
            "c6bb0d95118e42f093768c4cd0aa4aa2",
            "ca5bd5b722a84cf8a2884537e7eafca3",
            "59bccb8b1ff641249c9c01e575e8f7ca",
            "f4e8e25e552446e3bed86e12ab8a653b",
            "4a3d5e2b95024c299e49bbae6c8e53bc",
            "9eef61a1aa7d4fe1a5a4a60782289273",
            "91ac1d81ada74b34b5b68aa409c47009",
            "cc5fb1450141485abb3463ead8ee2e7e",
            "1a7f242ae2ab44cfa3a4d854e7aad468",
            "e7799a826fbe4ff5b8cf5eca236cdc6a"
          ]
        },
        "id": "ASbGq4AedIi3",
        "outputId": "3cb211b3-0dd7-4a30-ca29-c44f1f12c57a"
      },
      "execution_count": 13,
      "outputs": [
        {
          "output_type": "display_data",
          "data": {
            "text/plain": [
              "Downloading data:   0%|          | 0.00/21.3M [00:00<?, ?B/s]"
            ],
            "application/vnd.jupyter.widget-view+json": {
              "version_major": 2,
              "version_minor": 0,
              "model_id": "1e718c2b6788441fada2f5e712226092"
            }
          },
          "metadata": {}
        },
        {
          "output_type": "display_data",
          "data": {
            "text/plain": [
              "Generating validation split:   0%|          | 0/7931 [00:00<?, ? examples/s]"
            ],
            "application/vnd.jupyter.widget-view+json": {
              "version_major": 2,
              "version_minor": 0,
              "model_id": "eba5d73d7cb6418681341b51e7ad95bd"
            }
          },
          "metadata": {}
        }
      ]
    },
    {
      "cell_type": "code",
      "source": [
        "def synthesise(text):\n",
        "    inputs = processor(text=text, return_tensors=\"pt\")\n",
        "    speech = model.generate_speech(\n",
        "        inputs[\"input_ids\"].to(device), speaker_embeddings.to(device), vocoder=vocoder\n",
        "    )\n",
        "    return speech.cpu()"
      ],
      "metadata": {
        "id": "eMXiqAEDdyev"
      },
      "execution_count": 14,
      "outputs": []
    },
    {
      "cell_type": "code",
      "source": [
        "from IPython.display import Audio\n",
        "\n",
        "audio = synthesise(\n",
        "    \"Hugging Face is a company that provides natural language processing and machine learning tools for developers.\"\n",
        ")\n",
        "\n",
        "Audio(audio, rate=16000)"
      ],
      "metadata": {
        "colab": {
          "base_uri": "https://localhost:8080/",
          "height": 75
        },
        "id": "cw0esiOrdzws",
        "outputId": "5287fa7d-467d-4623-fee5-e45c7849ba18"
      },
      "execution_count": 15,
      "outputs": [
        {
          "output_type": "execute_result",
          "data": {
            "text/plain": [
              "<IPython.lib.display.Audio object>"
            ],
            "text/html": [
              "\n",
              "                <audio  controls=\"controls\" >\n",
              "                    <source src=\"data:audio/wav;base64,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\" type=\"audio/wav\" />\n",
              "                    Your browser does not support the audio element.\n",
              "                </audio>\n",
              "              "
            ]
          },
          "metadata": {},
          "execution_count": 15
        }
      ]
    },
    {
      "cell_type": "markdown",
      "source": [
        "# Voice Assistant - MARVIN"
      ],
      "metadata": {
        "id": "avShBBgbXUQm"
      }
    },
    {
      "cell_type": "code",
      "source": [
        "# Voice Assistant\n",
        "import scipy\n",
        "\n",
        "audio, sr = get_audio()\n",
        "scipy.io.wavfile.write('recording.wav', sr, audio)\n",
        "\n",
        "if detect_wake_word():\n",
        "  print(\"Wake word detected!\")\n",
        "  transcribed_text = transcribe()\n",
        "  print(\"Transcription:\", transcribed_text)\n",
        "  response=query(transcribed_text)\n",
        "  print(response)\n",
        "  audio = synthesise(response)\n",
        "  Audio(audio, rate=16000)\n",
        "else:\n",
        "  print(\"Wake word not detected.\")"
      ],
      "metadata": {
        "colab": {
          "base_uri": "https://localhost:8080/",
          "height": 411
        },
        "id": "jLBkP8smevu_",
        "outputId": "63db2436-57e9-4be2-83f5-03ee048d06c3"
      },
      "execution_count": 22,
      "outputs": [
        {
          "output_type": "display_data",
          "data": {
            "text/plain": [
              "<IPython.core.display.HTML object>"
            ],
            "text/html": [
              "\n",
              "<script>\n",
              "var my_div = document.createElement(\"DIV\");\n",
              "var my_p = document.createElement(\"P\");\n",
              "var my_btn = document.createElement(\"BUTTON\");\n",
              "var t = document.createTextNode(\"Press to start recording\");\n",
              "\n",
              "my_btn.appendChild(t);\n",
              "//my_p.appendChild(my_btn);\n",
              "my_div.appendChild(my_btn);\n",
              "document.body.appendChild(my_div);\n",
              "\n",
              "var base64data = 0;\n",
              "var reader;\n",
              "var recorder, gumStream;\n",
              "var recordButton = my_btn;\n",
              "\n",
              "var handleSuccess = function(stream) {\n",
              "  gumStream = stream;\n",
              "  var options = {\n",
              "    //bitsPerSecond: 8000, //chrome seems to ignore, always 48k\n",
              "    mimeType : 'audio/webm;codecs=opus'\n",
              "    //mimeType : 'audio/webm;codecs=pcm'\n",
              "  };\n",
              "  //recorder = new MediaRecorder(stream, options);\n",
              "  recorder = new MediaRecorder(stream);\n",
              "  recorder.ondataavailable = function(e) {\n",
              "    var url = URL.createObjectURL(e.data);\n",
              "    var preview = document.createElement('audio');\n",
              "    preview.controls = true;\n",
              "    preview.src = url;\n",
              "    document.body.appendChild(preview);\n",
              "\n",
              "    reader = new FileReader();\n",
              "    reader.readAsDataURL(e.data);\n",
              "    reader.onloadend = function() {\n",
              "      base64data = reader.result;\n",
              "      //console.log(\"Inside FileReader:\" + base64data);\n",
              "    }\n",
              "  };\n",
              "  recorder.start();\n",
              "  };\n",
              "\n",
              "recordButton.innerText = \"Recording... press to stop\";\n",
              "\n",
              "navigator.mediaDevices.getUserMedia({audio: true}).then(handleSuccess);\n",
              "\n",
              "\n",
              "function toggleRecording() {\n",
              "  if (recorder && recorder.state == \"recording\") {\n",
              "      recorder.stop();\n",
              "      gumStream.getAudioTracks()[0].stop();\n",
              "      recordButton.innerText = \"Saving the recording... pls wait!\"\n",
              "  }\n",
              "}\n",
              "\n",
              "// https://stackoverflow.com/a/951057\n",
              "function sleep(ms) {\n",
              "  return new Promise(resolve => setTimeout(resolve, ms));\n",
              "}\n",
              "\n",
              "var data = new Promise(resolve=>{\n",
              "//recordButton.addEventListener(\"click\", toggleRecording);\n",
              "recordButton.onclick = ()=>{\n",
              "toggleRecording()\n",
              "\n",
              "sleep(2000).then(() => {\n",
              "  // wait 2000ms for the data to be available...\n",
              "  // ideally this should use something like await...\n",
              "  //console.log(\"Inside data:\" + base64data)\n",
              "  resolve(base64data.toString())\n",
              "\n",
              "});\n",
              "\n",
              "}\n",
              "});\n",
              "\n",
              "</script>\n"
            ]
          },
          "metadata": {}
        },
        {
          "output_type": "stream",
          "name": "stderr",
          "text": [
            "Some weights of the model checkpoint at facebook/wav2vec2-base-960h were not used when initializing Wav2Vec2ForCTC: ['wav2vec2.encoder.pos_conv_embed.conv.weight_g', 'wav2vec2.encoder.pos_conv_embed.conv.weight_v']\n",
            "- This IS expected if you are initializing Wav2Vec2ForCTC from the checkpoint of a model trained on another task or with another architecture (e.g. initializing a BertForSequenceClassification model from a BertForPreTraining model).\n",
            "- This IS NOT expected if you are initializing Wav2Vec2ForCTC from the checkpoint of a model that you expect to be exactly identical (initializing a BertForSequenceClassification model from a BertForSequenceClassification model).\n",
            "Some weights of Wav2Vec2ForCTC were not initialized from the model checkpoint at facebook/wav2vec2-base-960h and are newly initialized: ['wav2vec2.encoder.pos_conv_embed.conv.parametrizations.weight.original0', 'wav2vec2.encoder.pos_conv_embed.conv.parametrizations.weight.original1', 'wav2vec2.masked_spec_embed']\n",
            "You should probably TRAIN this model on a down-stream task to be able to use it for predictions and inference.\n"
          ]
        },
        {
          "output_type": "stream",
          "name": "stdout",
          "text": [
            "Transcription: hello marvin\n",
            "Wake word detected with high probability!\n",
            "Wake word detected!\n",
            "Transcribing audio...\n"
          ]
        },
        {
          "output_type": "stream",
          "name": "stderr",
          "text": [
            "/usr/local/lib/python3.10/dist-packages/transformers/models/whisper/generation_whisper.py:480: FutureWarning: The input name `inputs` is deprecated. Please make sure to use `input_features` instead.\n",
            "  warnings.warn(\n"
          ]
        },
        {
          "output_type": "stream",
          "name": "stdout",
          "text": [
            " Hello Marvin\n",
            "Transcription:  Hello Marvin\n",
            "Querying...:  Hello Marvin\n",
            "\n",
            "\n",
            "this is a general question. I experienced an issue in the LPC0147 evaluation board and realized, that the problem was an incorrect configuration in LPC0147_get\\_Analog\\_Values() in the  lpc\\_fish147.c. There a pin of the sensor is configured as an input pin by LPC0147_get\\_Analog\\_Values() which was  already defined as an input pin in correct_\n"
          ]
        }
      ]
    }
  ]
}